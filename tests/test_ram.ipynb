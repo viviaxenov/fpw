{
 "cells": [
  {
   "cell_type": "code",
   "execution_count": null,
   "id": "83fa0858",
   "metadata": {},
   "outputs": [],
   "source": [
    "from typing import Callable, Union, List, Dict, Generator, Literal\n",
    "from functools import partial"
   ]
  },
  {
   "cell_type": "code",
   "execution_count": null,
   "id": "64af9946",
   "metadata": {},
   "outputs": [],
   "source": [
    "import numpy as np\n",
    "import scipy as sp"
   ]
  },
  {
   "cell_type": "code",
   "execution_count": null,
   "id": "a0016ed4",
   "metadata": {},
   "outputs": [],
   "source": [
    "import torch\n",
    "from geomloss import SamplesLoss"
   ]
  },
  {
   "cell_type": "code",
   "execution_count": null,
   "id": "def7f073",
   "metadata": {},
   "outputs": [],
   "source": [
    "import matplotlib.pyplot as plt\n",
    "from time import perf_counter"
   ]
  },
  {
   "cell_type": "code",
   "execution_count": null,
   "id": "47593504",
   "metadata": {},
   "outputs": [],
   "source": [
    "from fpw import RAMSolver\n",
    "from fpw.utility import *"
   ]
  },
  {
   "cell_type": "code",
   "execution_count": null,
   "id": "ad5b0ed5",
   "metadata": {},
   "outputs": [],
   "source": [
    "S2_dist_fn = SamplesLoss(blur=0.08)"
   ]
  },
  {
   "cell_type": "code",
   "execution_count": null,
   "id": "b6961f78",
   "metadata": {},
   "outputs": [],
   "source": [
    "rs = 10\n",
    "N_particles = 300\n",
    "dim = 40\n",
    "n_comp = 10\n",
    "N_steps = 60\n",
    "N_steps_warmstart = 0\n",
    "hist_lens = [1, 2, 3, 5, 10]"
   ]
  },
  {
   "cell_type": "markdown",
   "id": "4da44018",
   "metadata": {},
   "source": [
    "mean = torch.Tensor([(-1.0) ** k for k in range(dim)])\n",
    "target = Nonconvex(a=mean)"
   ]
  },
  {
   "cell_type": "markdown",
   "id": "85b954e5",
   "metadata": {},
   "source": [
    "ms = torch.randn((n_comp, dim))\n",
    "norm_ms = torch.linalg.norm(ms, axis=-1)\n",
    "ms_coef = (5.0 + norm_ms) / norm_ms\n",
    "ms *= ms_coef[:, None]\n",
    "\n",
    "mix = torch.distributions.Categorical(\n",
    "    torch.ones(\n",
    "        n_comp,\n",
    "    )\n",
    ")\n",
    "comp = torch.distributions.Independent(\n",
    "    torch.distributions.Normal(ms, torch.full((n_comp, dim), fill_value=0.3)), 1\n",
    ")\n",
    "gmm = torch.distributions.MixtureSameFamily(mix, comp)\n",
    "\n",
    "target = gmm"
   ]
  },
  {
   "cell_type": "code",
   "execution_count": null,
   "id": "3d54f59d",
   "metadata": {
    "lines_to_next_cell": 2
   },
   "outputs": [],
   "source": [
    "loc = torch.ones(dim)\n",
    "cov = torch.randn((dim, dim))\n",
    "cov = torch.mm(cov.t(), cov) + .1 * torch.eye(dim)"
   ]
  },
  {
   "cell_type": "code",
   "execution_count": null,
   "id": "43fafa6c",
   "metadata": {},
   "outputs": [],
   "source": [
    "target = torch.distributions.MultivariateNormal(loc=loc, covariance_matrix=cov)"
   ]
  },
  {
   "cell_type": "code",
   "execution_count": null,
   "id": "bb298507",
   "metadata": {},
   "outputs": [],
   "source": [
    "sample_targ = target.rsample((2 * N_particles,))"
   ]
  },
  {
   "cell_type": "code",
   "execution_count": null,
   "id": "574c0779",
   "metadata": {},
   "outputs": [],
   "source": [
    "sample_init = torch.randn((N_particles, dim))"
   ]
  },
  {
   "cell_type": "code",
   "execution_count": null,
   "id": "6dc29a3e",
   "metadata": {},
   "outputs": [],
   "source": [
    "# operator = ULAStep(target, 9.e-4)\n",
    "operator = MALAStep(target, 1.0)\n",
    "operator.tune(sample_init)"
   ]
  },
  {
   "cell_type": "code",
   "execution_count": null,
   "id": "23a5d4e2",
   "metadata": {
    "lines_to_next_cell": 2
   },
   "outputs": [],
   "source": [
    "S2_err = []\n",
    "sample_ula = sample_init.detach().clone()\n",
    "for k in range(N_steps):\n",
    "    if k == N_steps_warmstart:\n",
    "        sample_init_ram = sample_ula.detach().clone()\n",
    "    S2_err.append(S2_dist_fn(sample_ula, sample_targ))\n",
    "    sample_ula = operator(sample_ula)"
   ]
  },
  {
   "cell_type": "code",
   "execution_count": null,
   "id": "b65cbc5c",
   "metadata": {},
   "outputs": [],
   "source": [
    "S2_convs = []\n",
    "ars_ram = []\n",
    "for m_history in hist_lens:\n",
    "    S2_err_ram = []\n",
    "    ars = []\n",
    "    solver = RAMSolver(\n",
    "        operator,\n",
    "        history_len=m_history,\n",
    "        relaxation=1.2,\n",
    "        l_inf_bound_Gamma=.1,\n",
    "        reg_sinkhorn=0.3,\n",
    "        sinkhorn_kwargs={\"scaling\": 0.5},\n",
    "    )\n",
    "    solver._initialize_iteration(sample_init_ram.detach().clone())\n",
    "    for k in range(N_steps - N_steps_warmstart):\n",
    "        sample_ram = solver._x_prev\n",
    "        S2_err_ram.append(S2_dist_fn(sample_ram, sample_targ))\n",
    "        try:\n",
    "            t = perf_counter()\n",
    "            solver._step()\n",
    "            dt_per_iter = perf_counter() - t\n",
    "        except Exception as e:\n",
    "            print(f\"Test run for {m_history=:-2d} terminated at {k=}\")\n",
    "            print(f\"\\tError: {e}\")\n",
    "            break\n",
    "    _, ar = operator.step(sample_ram)\n",
    "    print(f\"{m_history=:2d} {dt_per_iter=:.2e} {ar=:.3f}\")\n",
    "    # print(f\"{m_history=:2d} {dt_per_iter=:.2e}\")\n",
    "    S2_convs.append(S2_err_ram)"
   ]
  },
  {
   "cell_type": "code",
   "execution_count": null,
   "id": "960770a2",
   "metadata": {},
   "outputs": [],
   "source": [
    "fig, axs = plt.subplots(1, 2, figsize=(20, 10))"
   ]
  },
  {
   "cell_type": "code",
   "execution_count": null,
   "id": "55950643",
   "metadata": {},
   "outputs": [],
   "source": [
    "ax = axs[0]"
   ]
  },
  {
   "cell_type": "code",
   "execution_count": null,
   "id": "6866c87d",
   "metadata": {},
   "outputs": [],
   "source": [
    "s_marker = 5.0\n",
    "# ax.scatter(*sample_init[:, :2].T, s=s_marker, label=\"Initial\")\n",
    "ax.scatter(*sample_targ[:, :2].T, s=s_marker, label=\"Target\")\n",
    "ax.scatter(*sample_ula[:, :2].T, s=s_marker, marker=\"+\", label=\"ULA approx\")\n",
    "ax.scatter(*sample_ram[:, :2].T, s=s_marker, marker=\"x\", label=\"RAM approx\")"
   ]
  },
  {
   "cell_type": "code",
   "execution_count": null,
   "id": "630d89be",
   "metadata": {},
   "outputs": [],
   "source": [
    "steps_ram = list(range(N_steps_warmstart, N_steps))"
   ]
  },
  {
   "cell_type": "code",
   "execution_count": null,
   "id": "13eea359",
   "metadata": {},
   "outputs": [],
   "source": [
    "ax = axs[1]\n",
    "ax.plot(S2_err, label=\"ULA\", linewidth=2.0, linestyle=\"--\")"
   ]
  },
  {
   "cell_type": "code",
   "execution_count": null,
   "id": "d603cb3e",
   "metadata": {},
   "outputs": [],
   "source": [
    "ax.scatter(N_steps_warmstart, S2_err[N_steps_warmstart], 20.0, marker=\"*\", color=\"g\")"
   ]
  },
  {
   "cell_type": "code",
   "execution_count": null,
   "id": "e59c8895",
   "metadata": {},
   "outputs": [],
   "source": [
    "for S2_err_ram, m in zip(S2_convs, hist_lens):\n",
    "    ax.plot(\n",
    "        steps_ram[: len(S2_err_ram)],\n",
    "        S2_err_ram,\n",
    "        label=f\"ULA+RAM, ${m=}$\",\n",
    "        linewidth=0.7,\n",
    "    )\n",
    "ax.set_yscale(\"log\")\n",
    "ax.set_xlabel(\"$k$\")\n",
    "ax.set_ylabel(\"$S_s(\\\\mu_k, \\\\mu^*)$\")"
   ]
  },
  {
   "cell_type": "code",
   "execution_count": null,
   "id": "2e01a0c0",
   "metadata": {},
   "outputs": [],
   "source": [
    "for ax in axs:\n",
    "    ax.grid()\n",
    "    ax.legend()\n",
    "fig.tight_layout()\n",
    "fig.savefig(\"ram_ula_test.pdf\")"
   ]
  },
  {
   "cell_type": "code",
   "execution_count": null,
   "id": "e788d8a5",
   "metadata": {},
   "outputs": [],
   "source": [
    "fig, ax = plt.subplots(1, 1)"
   ]
  },
  {
   "cell_type": "code",
   "execution_count": null,
   "id": "6fc2ee70",
   "metadata": {},
   "outputs": [],
   "source": [
    "ax.set_title(f\"RAM, {m = }\")\n",
    "ax.plot(steps_ram, S2_err_ram, label=f\"$W_2(\\\\rho_k, \\\\rho^\\\\infty)$\", linewidth=0.7)\n",
    "ax.plot(steps_ram, solver.W2_between_iterates[:-1], label=\"$W_2(\\\\rho_k, \\\\rho_{k+1})$\")\n",
    "ax.set_yscale(\"log\")\n",
    "ax.legend(loc=\"upper right\")\n",
    "ax.grid()"
   ]
  },
  {
   "cell_type": "code",
   "execution_count": null,
   "id": "3436c50e",
   "metadata": {
    "lines_to_next_cell": 2
   },
   "outputs": [],
   "source": [
    "ax = ax.twinx()\n",
    "ax.plot(steps_ram, solver.norm_rk[:-1], \"r--\", label=\"$\\|r_k\\|_{L^2_{\\\\rho_k}}$\")\n",
    "ax.plot(steps_ram, solver.norm_Gamma[:-1], \"g--\", label=\"$\\|\\Gamma\\|_{l_2}$\")\n",
    "ax.legend(loc=\"center right\")\n",
    "ax.grid()"
   ]
  },
  {
   "cell_type": "code",
   "execution_count": null,
   "id": "b7e802b4",
   "metadata": {},
   "outputs": [],
   "source": [
    "plt.show()"
   ]
  }
 ],
 "metadata": {
  "jupytext": {
   "cell_metadata_filter": "-all",
   "main_language": "python",
   "notebook_metadata_filter": "-all"
  }
 },
 "nbformat": 4,
 "nbformat_minor": 5
}
