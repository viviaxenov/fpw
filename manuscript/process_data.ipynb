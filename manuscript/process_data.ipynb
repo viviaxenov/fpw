{
 "cells": [
  {
   "cell_type": "code",
   "execution_count": 271,
   "id": "b981e75b-f37c-47e5-b358-2f9f9b2e0a2d",
   "metadata": {},
   "outputs": [],
   "source": [
    "import numpy as np\n",
    "import pandas as pd\n",
    "from num2tex import num2tex\n",
    "\n",
    "import matplotlib.pyplot as plt\n",
    "\n",
    "import os\n",
    "\n",
    "from fpw.test import _plot_figure\n",
    "from fpw.ProblemGaussian import *\n",
    "\n",
    "\n",
    "\n",
    "problem = \"Median\" # \"BC\" | \"KL\" | \"OU\" | \"EntBC\" | \"Median\""
   ]
  },
  {
   "cell_type": "markdown",
   "id": "03923c78-585c-45f6-8dc1-8c622bbf0abd",
   "metadata": {},
   "source": [
    "## Setup"
   ]
  },
  {
   "cell_type": "markdown",
   "id": "16ebdd1c-7cd6-49bd-9a9f-8fffe42f66a9",
   "metadata": {},
   "source": [
    "### Setting params for each problem"
   ]
  },
  {
   "cell_type": "code",
   "execution_count": 272,
   "id": "9a866cf3-f3fe-416f-8abe-25e25768e20a",
   "metadata": {},
   "outputs": [],
   "source": [
    "match problem:\n",
    "    case \"BC\":\n",
    "        # results_dirs = './outputs/Barycenter/' # !!! for NeurIPS 2025 initial submission\n",
    "        results_dirs = './outputs/Barycenter_trivial/' # \n",
    "        term_name, term_val = 'costs_to_0', 1e-10\n",
    "    case \"KL\":\n",
    "        results_dirs = './outputs/KL_trivial/'\n",
    "        term_name, term_val = 'costs', 1e-8\n",
    "    case \"OU\":\n",
    "        results_dirs = './outputs/OU_acceleration/'\n",
    "        term_name, term_val = 'residuals', 1e-5\n",
    "    case \"EntBC\":\n",
    "        results_dirs = './outputs/EntBarycenter_trivial/'\n",
    "        term_name, term_val = 'costs_to_0', 1e-10\n",
    "    case \"Median\":\n",
    "        #results_dirs = ['./outputs/Median/', 'outputs/Median_d50/']\n",
    "        # results_dirs = \"./outputs/MedianNew/\" # !!! for NeurIPS 2025 initial submission\n",
    "        results_dirs = \"./outputs/Median_trivial/\"\n",
    "        term_name, term_val = 'costs_to_0', 1e-10\n",
    "\n",
    "\n",
    "\n",
    "if isinstance(results_dirs, str):\n",
    "    results_dirs = [results_dirs]\n",
    "results_dir = results_dirs[0]"
   ]
  },
  {
   "cell_type": "code",
   "execution_count": 273,
   "id": "76a3830a-511c-4ab8-8770-40a82bdd9e91",
   "metadata": {},
   "outputs": [],
   "source": [
    "tab_prefix = os.path.join(results_dir, 'tabs')\n",
    "os.makedirs(tab_prefix, exist_ok=True)\n",
    "\n",
    "target_params = ['dim', 'n_sigmas'] if problem in ['BC', 'EntBC', 'Median'] else ['dim', 'sigma_min', 'sigma_max']\n",
    "method_params = ['history_len', 'l_inf_bound_Gamma', 'relaxation', 'r_threshold']\n",
    "method_names = ['Picard', 'RGD', 'BWRAM', 'RCG'] if problem != 'OU' else ['Picard', 'BWRAM']"
   ]
  },
  {
   "cell_type": "markdown",
   "id": "03baeeab-fbbc-4cca-94f1-b7512cb2ebf3",
   "metadata": {
    "jp-MarkdownHeadingCollapsed": true
   },
   "source": [
    "### Utility functions"
   ]
  },
  {
   "cell_type": "code",
   "execution_count": 274,
   "id": "af76b5eb-3045-4ae5-a70e-6551e1792ba0",
   "metadata": {},
   "outputs": [],
   "source": [
    "def latexify_label(label:str):\n",
    "    match label:\n",
    "        case 'dim':\n",
    "            return r'$d$'\n",
    "        case 'n_sigmas':\n",
    "            return r'$n_{\\sigma}$'\n",
    "        case 'sigma_min':\n",
    "            return r'$\\sigma_{min}$'\n",
    "        case 'sigma_max':\n",
    "            return r'$\\sigma_{max}$'\n",
    "        case 'history_len':\n",
    "            return r'$m_{hist}$'\n",
    "        case 'l_inf_bound_Gamma':\n",
    "            return r'$\\| \\Gamma \\|_{\\inf,\\ max}$'\n",
    "        case 'relaxation':\n",
    "            return r'$\\beta$'\n",
    "        case 'method':\n",
    "            return ''\n",
    "    return label"
   ]
  },
  {
   "cell_type": "markdown",
   "id": "04c0228b-83a0-4335-aa18-6a13b359623e",
   "metadata": {},
   "source": [
    "## Preprocess"
   ]
  },
  {
   "cell_type": "markdown",
   "id": "0b72998e-d69c-4c39-b90c-39d65cbfc35b",
   "metadata": {},
   "source": [
    "### Read the data from files"
   ]
  },
  {
   "cell_type": "code",
   "execution_count": 275,
   "id": "ec6adf60-dd80-41fc-882c-661acac25c8a",
   "metadata": {
    "scrolled": true
   },
   "outputs": [],
   "source": [
    "res = []\n",
    "for rdir in results_dirs:\n",
    "    dir_ = os.path.join(rdir, 'chunks')\n",
    "    for fname in os.listdir(dir_,):\n",
    "        if fname.endswith(\".pkl\"):\n",
    "            res += pd.read_pickle(os.path.join(dir_, fname))\n",
    "\n",
    "    df = pd.DataFrame.from_records(res)"
   ]
  },
  {
   "cell_type": "markdown",
   "id": "a06bc71b-4c4f-418b-ad03-959f6bc07cf8",
   "metadata": {},
   "source": [
    "In case of legacy data"
   ]
  },
  {
   "cell_type": "code",
   "execution_count": 276,
   "id": "2733630d-9dce-4e74-936a-9be71a725d43",
   "metadata": {},
   "outputs": [],
   "source": [
    "df = df.rename(columns={'rs_cov': 'rs'})\n",
    "if problem in ['BC', 'EntBC', 'Median']:\n",
    "    df = df.query(\"dim > 2 and n_sigmas > 2\")"
   ]
  },
  {
   "cell_type": "markdown",
   "id": "8164d1e7-1227-4ffc-be00-9679f51da324",
   "metadata": {
    "jp-MarkdownHeadingCollapsed": true
   },
   "source": [
    "### Compute additional columns"
   ]
  },
  {
   "cell_type": "markdown",
   "id": "9f7c6dcd-5a82-473d-9fc7-d5e6f15910a6",
   "metadata": {},
   "source": [
    "If some of the parameters were not varied during the run, drop them"
   ]
  },
  {
   "cell_type": "code",
   "execution_count": 277,
   "id": "6e9d033e-251d-4d23-91c5-d85fe1101a2b",
   "metadata": {
    "scrolled": true
   },
   "outputs": [],
   "source": [
    "method_params = [p_ for p_ in method_params if p_ in df.columns and df[p_].nunique() > 1]\n",
    "target_params = [p_ for p_ in target_params if p_ in df.columns and df[p_].nunique() > 1]"
   ]
  },
  {
   "cell_type": "code",
   "execution_count": 278,
   "id": "a2b46074-a352-4b7b-966f-3539d0154aa6",
   "metadata": {
    "scrolled": true
   },
   "outputs": [],
   "source": [
    "df['N_steps_done'] =  np.array([ \n",
    "    np.where(np.array(c) <= term_val)[0][0] if np.any(np.array(c) <= term_val) else np.inf \n",
    "    for c in df[term_name]], )\n",
    "\n",
    "df['T'] = np.array([(sum(t_[:int(N_)]) if N_ < np.inf else sum(t_)) for t_, N_ in zip(df['dts'], df['N_steps_done'])])\n",
    "df.loc[df['method'] == 'Picard', 'T'] = np.abs(df.loc[df['method'] == 'Picard', 'T'])"
   ]
  },
  {
   "cell_type": "code",
   "execution_count": 279,
   "id": "d4a552c0-e858-4b31-995d-9c3c38c054e3",
   "metadata": {
    "scrolled": true
   },
   "outputs": [
    {
     "data": {
      "text/plain": [
       "Index(['costs', 'residuals', 'dts', 'covs', 'cov_final', 'vt_kind', 'dim',\n",
       "       'n_sigmas', 'rs', 'eps', 'scaling', 'problem', 'N_steps_max', 'r_min',\n",
       "       'cost_min', 'dBW', 'costs_to_0', 'method', 'history_len',\n",
       "       'l_inf_bound_Gamma', 'relaxation', 'N_steps_done', 'T'],\n",
       "      dtype='object')"
      ]
     },
     "execution_count": 279,
     "metadata": {},
     "output_type": "execute_result"
    }
   ],
   "source": [
    "df.columns"
   ]
  },
  {
   "cell_type": "code",
   "execution_count": 280,
   "id": "31f97ec4-8013-4f44-9cba-20617aa8ddce",
   "metadata": {
    "scrolled": true
   },
   "outputs": [
    {
     "data": {
      "text/html": [
       "<div>\n",
       "<style scoped>\n",
       "    .dataframe tbody tr th:only-of-type {\n",
       "        vertical-align: middle;\n",
       "    }\n",
       "\n",
       "    .dataframe tbody tr th {\n",
       "        vertical-align: top;\n",
       "    }\n",
       "\n",
       "    .dataframe thead tr th {\n",
       "        text-align: left;\n",
       "    }\n",
       "\n",
       "    .dataframe thead tr:last-of-type th {\n",
       "        text-align: right;\n",
       "    }\n",
       "</style>\n",
       "<table border=\"1\" class=\"dataframe\">\n",
       "  <thead>\n",
       "    <tr>\n",
       "      <th></th>\n",
       "      <th colspan=\"4\" halign=\"left\">rs</th>\n",
       "    </tr>\n",
       "    <tr>\n",
       "      <th>n_sigmas</th>\n",
       "      <th>3</th>\n",
       "      <th>5</th>\n",
       "      <th>10</th>\n",
       "      <th>20</th>\n",
       "    </tr>\n",
       "    <tr>\n",
       "      <th>dim</th>\n",
       "      <th></th>\n",
       "      <th></th>\n",
       "      <th></th>\n",
       "      <th></th>\n",
       "    </tr>\n",
       "  </thead>\n",
       "  <tbody>\n",
       "    <tr>\n",
       "      <th>3</th>\n",
       "      <td>11.0</td>\n",
       "      <td>12.0</td>\n",
       "      <td>12.0</td>\n",
       "      <td>12.0</td>\n",
       "    </tr>\n",
       "    <tr>\n",
       "      <th>5</th>\n",
       "      <td>12.0</td>\n",
       "      <td>12.0</td>\n",
       "      <td>12.0</td>\n",
       "      <td>12.0</td>\n",
       "    </tr>\n",
       "    <tr>\n",
       "      <th>10</th>\n",
       "      <td>12.0</td>\n",
       "      <td>12.0</td>\n",
       "      <td>12.0</td>\n",
       "      <td>12.0</td>\n",
       "    </tr>\n",
       "    <tr>\n",
       "      <th>20</th>\n",
       "      <td>12.0</td>\n",
       "      <td>12.0</td>\n",
       "      <td>12.0</td>\n",
       "      <td>12.0</td>\n",
       "    </tr>\n",
       "    <tr>\n",
       "      <th>50</th>\n",
       "      <td>12.0</td>\n",
       "      <td>12.0</td>\n",
       "      <td>12.0</td>\n",
       "      <td>12.0</td>\n",
       "    </tr>\n",
       "  </tbody>\n",
       "</table>\n",
       "</div>"
      ],
      "text/plain": [
       "            rs                  \n",
       "n_sigmas    3     5     10    20\n",
       "dim                             \n",
       "3         11.0  12.0  12.0  12.0\n",
       "5         12.0  12.0  12.0  12.0\n",
       "10        12.0  12.0  12.0  12.0\n",
       "20        12.0  12.0  12.0  12.0\n",
       "50        12.0  12.0  12.0  12.0"
      ]
     },
     "execution_count": 280,
     "metadata": {},
     "output_type": "execute_result"
    }
   ],
   "source": [
    "df_runs_done = \\\n",
    "    df[target_params + ['rs']]\\\n",
    "    .groupby(target_params)\\\n",
    "    .nunique()\\\n",
    "    .pivot_table(index=target_params[0], columns=target_params[1])\n",
    "\n",
    "n_max_runs = int(df_runs_done.dropna().to_numpy().min())\n",
    "df_runs_done"
   ]
  },
  {
   "cell_type": "markdown",
   "id": "86fee0c9-73a4-444f-a90f-c0818a4aeffc",
   "metadata": {},
   "source": [
    "### Compute acceleration compared to Picard"
   ]
  },
  {
   "cell_type": "code",
   "execution_count": 281,
   "id": "5ec5e8b5-b98d-4816-81d1-fa65e565be84",
   "metadata": {},
   "outputs": [],
   "source": [
    "grouped_by_target = df.groupby(target_params + ['rs'])\n",
    "\n",
    "accs = []\n",
    "\n",
    "for name, group in grouped_by_target:\n",
    "    acc = group.loc[group['method'] == 'Picard', 'N_steps_done'].to_numpy() / group['N_steps_done']\n",
    "    accs.append(acc)\n",
    "    \n",
    "acceleration = pd.concat(accs)\n",
    "df['acceleration'] = acceleration"
   ]
  },
  {
   "cell_type": "markdown",
   "id": "d15ffb34-d23a-4dfc-bb29-54b77a1fd711",
   "metadata": {},
   "source": [
    "### Analyze how many runs of BWRAM converged and provided at least x2 acceleration"
   ]
  },
  {
   "cell_type": "markdown",
   "id": "458ac533-4644-4aef-bc99-1ca90ed60f96",
   "metadata": {
    "jp-MarkdownHeadingCollapsed": true
   },
   "source": [
    "#### Compute"
   ]
  },
  {
   "cell_type": "code",
   "execution_count": 282,
   "id": "9656b839-7a0a-4541-a20f-373c9e6a37b0",
   "metadata": {
    "scrolled": true
   },
   "outputs": [],
   "source": [
    "df_bwram_converged = \\\n",
    "    df.loc[df['method'] == 'BWRAM', target_params + ['rs', 'N_steps_done'] + method_params]\\\n",
    "    .groupby(target_params)['N_steps_done']\\\n",
    "    .apply(lambda x: np.isfinite(x).mean())\\\n",
    "    .reset_index(name='converged_fraction')\\\n",
    "    .pivot_table(index=target_params[0], columns=target_params[1])\n"
   ]
  },
  {
   "cell_type": "code",
   "execution_count": 283,
   "id": "53ce453f-8702-4d54-a0a4-cc524e1d1f4b",
   "metadata": {},
   "outputs": [],
   "source": [
    "df_bwram_accelerated = \\\n",
    "    df.loc[df['method'] == 'BWRAM', target_params + ['rs', 'acceleration'] + method_params]\\\n",
    "    .groupby(target_params)['acceleration']\\\n",
    "    .apply(lambda x: (np.isfinite(x) & (x > 2.)).mean())\\\n",
    "    .reset_index(name='accelerated_fraction')\\\n",
    "    .pivot_table(index=target_params[0], columns=target_params[1])\n"
   ]
  },
  {
   "cell_type": "code",
   "execution_count": 284,
   "id": "eac76d63-ccc7-420c-929a-4860e4ec6663",
   "metadata": {},
   "outputs": [],
   "source": [
    "tab_bwram_performance_styled = pd.concat((df_bwram_converged, df_bwram_accelerated), axis=1)\\\n",
    "    .loc[4:, :]\\\n",
    "    .style\\\n",
    "    .format_index(precision=1, axis=1, level=1)\\\n",
    "    .format(precision=2, )\n",
    "tab_bwram_performance_styled.to_html(\"bwram_perf_onestep.html\")"
   ]
  },
  {
   "cell_type": "markdown",
   "id": "577e943d-943a-499c-bc4f-b686f7ed4f12",
   "metadata": {},
   "source": [
    "#### Result"
   ]
  },
  {
   "cell_type": "code",
   "execution_count": 285,
   "id": "4ac4083a-ca05-49b7-b3ef-ccf4a367496a",
   "metadata": {},
   "outputs": [
    {
     "data": {
      "text/html": [
       "<style type=\"text/css\">\n",
       "</style>\n",
       "<table id=\"T_a5ed6\">\n",
       "  <thead>\n",
       "    <tr>\n",
       "      <th class=\"blank level0\" >&nbsp;</th>\n",
       "      <th id=\"T_a5ed6_level0_col0\" class=\"col_heading level0 col0\" colspan=\"4\">converged_fraction</th>\n",
       "      <th id=\"T_a5ed6_level0_col4\" class=\"col_heading level0 col4\" colspan=\"4\">accelerated_fraction</th>\n",
       "    </tr>\n",
       "    <tr>\n",
       "      <th class=\"index_name level1\" >n_sigmas</th>\n",
       "      <th id=\"T_a5ed6_level1_col0\" class=\"col_heading level1 col0\" >3</th>\n",
       "      <th id=\"T_a5ed6_level1_col1\" class=\"col_heading level1 col1\" >5</th>\n",
       "      <th id=\"T_a5ed6_level1_col2\" class=\"col_heading level1 col2\" >10</th>\n",
       "      <th id=\"T_a5ed6_level1_col3\" class=\"col_heading level1 col3\" >20</th>\n",
       "      <th id=\"T_a5ed6_level1_col4\" class=\"col_heading level1 col4\" >3</th>\n",
       "      <th id=\"T_a5ed6_level1_col5\" class=\"col_heading level1 col5\" >5</th>\n",
       "      <th id=\"T_a5ed6_level1_col6\" class=\"col_heading level1 col6\" >10</th>\n",
       "      <th id=\"T_a5ed6_level1_col7\" class=\"col_heading level1 col7\" >20</th>\n",
       "    </tr>\n",
       "    <tr>\n",
       "      <th class=\"index_name level0\" >dim</th>\n",
       "      <th class=\"blank col0\" >&nbsp;</th>\n",
       "      <th class=\"blank col1\" >&nbsp;</th>\n",
       "      <th class=\"blank col2\" >&nbsp;</th>\n",
       "      <th class=\"blank col3\" >&nbsp;</th>\n",
       "      <th class=\"blank col4\" >&nbsp;</th>\n",
       "      <th class=\"blank col5\" >&nbsp;</th>\n",
       "      <th class=\"blank col6\" >&nbsp;</th>\n",
       "      <th class=\"blank col7\" >&nbsp;</th>\n",
       "    </tr>\n",
       "  </thead>\n",
       "  <tbody>\n",
       "    <tr>\n",
       "      <th id=\"T_a5ed6_level0_row0\" class=\"row_heading level0 row0\" >5</th>\n",
       "      <td id=\"T_a5ed6_row0_col0\" class=\"data row0 col0\" >0.37</td>\n",
       "      <td id=\"T_a5ed6_row0_col1\" class=\"data row0 col1\" >0.57</td>\n",
       "      <td id=\"T_a5ed6_row0_col2\" class=\"data row0 col2\" >0.64</td>\n",
       "      <td id=\"T_a5ed6_row0_col3\" class=\"data row0 col3\" >0.67</td>\n",
       "      <td id=\"T_a5ed6_row0_col4\" class=\"data row0 col4\" >0.21</td>\n",
       "      <td id=\"T_a5ed6_row0_col5\" class=\"data row0 col5\" >0.21</td>\n",
       "      <td id=\"T_a5ed6_row0_col6\" class=\"data row0 col6\" >0.26</td>\n",
       "      <td id=\"T_a5ed6_row0_col7\" class=\"data row0 col7\" >0.32</td>\n",
       "    </tr>\n",
       "    <tr>\n",
       "      <th id=\"T_a5ed6_level0_row1\" class=\"row_heading level0 row1\" >10</th>\n",
       "      <td id=\"T_a5ed6_row1_col0\" class=\"data row1 col0\" >0.61</td>\n",
       "      <td id=\"T_a5ed6_row1_col1\" class=\"data row1 col1\" >0.72</td>\n",
       "      <td id=\"T_a5ed6_row1_col2\" class=\"data row1 col2\" >0.79</td>\n",
       "      <td id=\"T_a5ed6_row1_col3\" class=\"data row1 col3\" >0.89</td>\n",
       "      <td id=\"T_a5ed6_row1_col4\" class=\"data row1 col4\" >0.60</td>\n",
       "      <td id=\"T_a5ed6_row1_col5\" class=\"data row1 col5\" >0.66</td>\n",
       "      <td id=\"T_a5ed6_row1_col6\" class=\"data row1 col6\" >0.72</td>\n",
       "      <td id=\"T_a5ed6_row1_col7\" class=\"data row1 col7\" >0.76</td>\n",
       "    </tr>\n",
       "    <tr>\n",
       "      <th id=\"T_a5ed6_level0_row2\" class=\"row_heading level0 row2\" >20</th>\n",
       "      <td id=\"T_a5ed6_row2_col0\" class=\"data row2 col0\" >0.63</td>\n",
       "      <td id=\"T_a5ed6_row2_col1\" class=\"data row2 col1\" >0.67</td>\n",
       "      <td id=\"T_a5ed6_row2_col2\" class=\"data row2 col2\" >0.67</td>\n",
       "      <td id=\"T_a5ed6_row2_col3\" class=\"data row2 col3\" >0.67</td>\n",
       "      <td id=\"T_a5ed6_row2_col4\" class=\"data row2 col4\" >0.63</td>\n",
       "      <td id=\"T_a5ed6_row2_col5\" class=\"data row2 col5\" >0.67</td>\n",
       "      <td id=\"T_a5ed6_row2_col6\" class=\"data row2 col6\" >0.67</td>\n",
       "      <td id=\"T_a5ed6_row2_col7\" class=\"data row2 col7\" >0.67</td>\n",
       "    </tr>\n",
       "    <tr>\n",
       "      <th id=\"T_a5ed6_level0_row3\" class=\"row_heading level0 row3\" >50</th>\n",
       "      <td id=\"T_a5ed6_row3_col0\" class=\"data row3 col0\" >0.23</td>\n",
       "      <td id=\"T_a5ed6_row3_col1\" class=\"data row3 col1\" >0.32</td>\n",
       "      <td id=\"T_a5ed6_row3_col2\" class=\"data row3 col2\" >0.41</td>\n",
       "      <td id=\"T_a5ed6_row3_col3\" class=\"data row3 col3\" >0.47</td>\n",
       "      <td id=\"T_a5ed6_row3_col4\" class=\"data row3 col4\" >0.23</td>\n",
       "      <td id=\"T_a5ed6_row3_col5\" class=\"data row3 col5\" >0.32</td>\n",
       "      <td id=\"T_a5ed6_row3_col6\" class=\"data row3 col6\" >0.41</td>\n",
       "      <td id=\"T_a5ed6_row3_col7\" class=\"data row3 col7\" >0.47</td>\n",
       "    </tr>\n",
       "  </tbody>\n",
       "</table>\n"
      ],
      "text/plain": [
       "<pandas.io.formats.style.Styler at 0x7adfdcb92630>"
      ]
     },
     "execution_count": 285,
     "metadata": {},
     "output_type": "execute_result"
    }
   ],
   "source": [
    "tab_bwram_performance_styled"
   ]
  },
  {
   "cell_type": "markdown",
   "id": "8fc68145-6b00-4135-a4f5-fa36e0274057",
   "metadata": {
    "jp-MarkdownHeadingCollapsed": true
   },
   "source": [
    "### Drop extra runs so the amount of runs analyzed is the same"
   ]
  },
  {
   "cell_type": "code",
   "execution_count": 286,
   "id": "e0b55ae1-9e1a-4bfc-9441-126670db3477",
   "metadata": {},
   "outputs": [],
   "source": [
    "# drop extra random seeds so we average over the same amount\n",
    "idx_to_leave = []\n",
    "for name, group in df.groupby(target_params):\n",
    "    rs_to_leave = group['rs'].unique()[:n_max_runs]\n",
    "    idx_to_leave.append(group['rs'].isin(rs_to_leave))\n",
    "\n",
    "idx_to_leave = pd.concat(idx_to_leave)\n",
    "df = df.loc[idx_to_leave, :]"
   ]
  },
  {
   "cell_type": "code",
   "execution_count": 287,
   "id": "3ac0d1a0-78d2-49bb-8dd0-9d75461a5642",
   "metadata": {
    "scrolled": true
   },
   "outputs": [
    {
     "data": {
      "text/html": [
       "<div>\n",
       "<style scoped>\n",
       "    .dataframe tbody tr th:only-of-type {\n",
       "        vertical-align: middle;\n",
       "    }\n",
       "\n",
       "    .dataframe tbody tr th {\n",
       "        vertical-align: top;\n",
       "    }\n",
       "\n",
       "    .dataframe thead tr th {\n",
       "        text-align: left;\n",
       "    }\n",
       "\n",
       "    .dataframe thead tr:last-of-type th {\n",
       "        text-align: right;\n",
       "    }\n",
       "</style>\n",
       "<table border=\"1\" class=\"dataframe\">\n",
       "  <thead>\n",
       "    <tr>\n",
       "      <th></th>\n",
       "      <th colspan=\"4\" halign=\"left\">rs</th>\n",
       "    </tr>\n",
       "    <tr>\n",
       "      <th>n_sigmas</th>\n",
       "      <th>3</th>\n",
       "      <th>5</th>\n",
       "      <th>10</th>\n",
       "      <th>20</th>\n",
       "    </tr>\n",
       "    <tr>\n",
       "      <th>dim</th>\n",
       "      <th></th>\n",
       "      <th></th>\n",
       "      <th></th>\n",
       "      <th></th>\n",
       "    </tr>\n",
       "  </thead>\n",
       "  <tbody>\n",
       "    <tr>\n",
       "      <th>3</th>\n",
       "      <td>11.0</td>\n",
       "      <td>11.0</td>\n",
       "      <td>11.0</td>\n",
       "      <td>11.0</td>\n",
       "    </tr>\n",
       "    <tr>\n",
       "      <th>5</th>\n",
       "      <td>11.0</td>\n",
       "      <td>11.0</td>\n",
       "      <td>11.0</td>\n",
       "      <td>11.0</td>\n",
       "    </tr>\n",
       "    <tr>\n",
       "      <th>10</th>\n",
       "      <td>11.0</td>\n",
       "      <td>11.0</td>\n",
       "      <td>11.0</td>\n",
       "      <td>11.0</td>\n",
       "    </tr>\n",
       "    <tr>\n",
       "      <th>20</th>\n",
       "      <td>11.0</td>\n",
       "      <td>11.0</td>\n",
       "      <td>11.0</td>\n",
       "      <td>11.0</td>\n",
       "    </tr>\n",
       "    <tr>\n",
       "      <th>50</th>\n",
       "      <td>11.0</td>\n",
       "      <td>11.0</td>\n",
       "      <td>11.0</td>\n",
       "      <td>11.0</td>\n",
       "    </tr>\n",
       "  </tbody>\n",
       "</table>\n",
       "</div>"
      ],
      "text/plain": [
       "            rs                  \n",
       "n_sigmas    3     5     10    20\n",
       "dim                             \n",
       "3         11.0  11.0  11.0  11.0\n",
       "5         11.0  11.0  11.0  11.0\n",
       "10        11.0  11.0  11.0  11.0\n",
       "20        11.0  11.0  11.0  11.0\n",
       "50        11.0  11.0  11.0  11.0"
      ]
     },
     "execution_count": 287,
     "metadata": {},
     "output_type": "execute_result"
    }
   ],
   "source": [
    "df_runs_done = \\\n",
    "    df[target_params + ['rs']]\\\n",
    "    .groupby(target_params)\\\n",
    "    .nunique()\\\n",
    "    .pivot_table(index=target_params[0], columns=target_params[1])\n",
    "df_runs_done"
   ]
  },
  {
   "cell_type": "markdown",
   "id": "efb09158-37c9-4d25-998d-05693ec0923d",
   "metadata": {
    "jp-MarkdownHeadingCollapsed": true
   },
   "source": [
    "## Compute max mean acceleration w.r.t. target params"
   ]
  },
  {
   "cell_type": "code",
   "execution_count": 288,
   "id": "c054fddb-d6ea-4996-a269-21eedd784008",
   "metadata": {},
   "outputs": [],
   "source": [
    "df_acc = df.loc[df['method'] == 'BWRAM', target_params + method_params + ['rs', 'acceleration']]"
   ]
  },
  {
   "cell_type": "markdown",
   "id": "fe4d82ef-2671-4185-89fc-427c3ef8a8fc",
   "metadata": {},
   "source": [
    "For each set of target params and method params, average the acceleration over random initializations of target (encoded by different `'rs'`)"
   ]
  },
  {
   "cell_type": "code",
   "execution_count": 289,
   "id": "4f54e0a0-b343-4c7d-bafd-17625c2a975f",
   "metadata": {},
   "outputs": [],
   "source": [
    "col_to_avg = [c for c in df_acc.columns if c not in ('rs', 'acceleration')]\n",
    "df_mean = df_acc.groupby(col_to_avg, as_index=False, dropna=False).mean().drop(columns=['rs', ])"
   ]
  },
  {
   "cell_type": "markdown",
   "id": "e4b2adcd-51f3-451b-9a7c-30432d4aae29",
   "metadata": {
    "jp-MarkdownHeadingCollapsed": true
   },
   "source": [
    "### For each target, dump more detailed info into `.html` tables"
   ]
  },
  {
   "cell_type": "code",
   "execution_count": 290,
   "id": "9fefd685-dffe-41bb-bdc3-865ba24c1dda",
   "metadata": {},
   "outputs": [],
   "source": [
    "import os\n",
    "tab_prefix = os.path.join(results_dir, 'tabs')\n",
    "os.makedirs(tab_prefix, exist_ok=True)\n",
    "\n",
    "group_by_target = df_mean.groupby(target_params)\n",
    "\n",
    "for group_data, group in group_by_target:\n",
    "    kwal_probl = dict(zip(target_params, group_data))\n",
    "    group\\\n",
    "        .sort_values('acceleration', ascending=False)\\\n",
    "        .to_html(os.path.join(tab_prefix, f\"{kwal_probl}.html\"))\n",
    "    "
   ]
  },
  {
   "cell_type": "markdown",
   "id": "15ff3f07-04a7-4d00-8b83-c7fde5a7c8f8",
   "metadata": {},
   "source": [
    "### Compute maximal mean acceleration over all method params for each target params"
   ]
  },
  {
   "cell_type": "code",
   "execution_count": 291,
   "id": "28b806cc-93df-45ac-98cd-feb7dcbf24a0",
   "metadata": {},
   "outputs": [],
   "source": [
    "df_max_mean_acc = df_mean.groupby(target_params).max()"
   ]
  },
  {
   "cell_type": "code",
   "execution_count": 292,
   "id": "8406cc5d-232f-48cc-b3c4-048b6785789a",
   "metadata": {},
   "outputs": [],
   "source": [
    "tab_final = pd.pivot_table(df_max_mean_acc, \n",
    "                           values='acceleration', \n",
    "                           index=target_params[0], \n",
    "                           columns=target_params[1], \n",
    "                           dropna=False)"
   ]
  },
  {
   "cell_type": "code",
   "execution_count": 293,
   "id": "8d81b6fb-7ee7-492f-a300-68e009d54c87",
   "metadata": {},
   "outputs": [],
   "source": [
    "tab_renamed = tab_final\\\n",
    "    .rename_axis(latexify_label(tab_final.index.name), axis='index')\\\n",
    "    .rename_axis(latexify_label(tab_final.columns.name), axis='columns')\\\n",
    "    .rename(columns=lambda _x: f\"${_x:.1f}$\")"
   ]
  },
  {
   "cell_type": "code",
   "execution_count": 294,
   "id": "5d8262db-d5fd-4719-b42e-761e12f6d8c4",
   "metadata": {},
   "outputs": [],
   "source": [
    "tab_renamed.style.format('${:.2f}$').to_latex(\n",
    "    os.path.join(tab_prefix, problem + \"_max_mean_acc.tex\"), hrules=True, clines=\"skip-last;data\"\n",
    ")"
   ]
  },
  {
   "cell_type": "code",
   "execution_count": 295,
   "id": "7cbc7f03-67ab-42b3-8a12-ac127859498b",
   "metadata": {},
   "outputs": [
    {
     "data": {
      "text/html": [
       "<style type=\"text/css\">\n",
       "</style>\n",
       "<table id=\"T_e88bb\">\n",
       "  <thead>\n",
       "    <tr>\n",
       "      <th class=\"index_name level0\" >$n_{\\sigma}$</th>\n",
       "      <th id=\"T_e88bb_level0_col0\" class=\"col_heading level0 col0\" >$3.0$</th>\n",
       "      <th id=\"T_e88bb_level0_col1\" class=\"col_heading level0 col1\" >$5.0$</th>\n",
       "      <th id=\"T_e88bb_level0_col2\" class=\"col_heading level0 col2\" >$10.0$</th>\n",
       "      <th id=\"T_e88bb_level0_col3\" class=\"col_heading level0 col3\" >$20.0$</th>\n",
       "    </tr>\n",
       "    <tr>\n",
       "      <th class=\"index_name level0\" >$d$</th>\n",
       "      <th class=\"blank col0\" >&nbsp;</th>\n",
       "      <th class=\"blank col1\" >&nbsp;</th>\n",
       "      <th class=\"blank col2\" >&nbsp;</th>\n",
       "      <th class=\"blank col3\" >&nbsp;</th>\n",
       "    </tr>\n",
       "  </thead>\n",
       "  <tbody>\n",
       "    <tr>\n",
       "      <th id=\"T_e88bb_level0_row0\" class=\"row_heading level0 row0\" >3</th>\n",
       "      <td id=\"T_e88bb_row0_col0\" class=\"data row0 col0\" >$2.14$</td>\n",
       "      <td id=\"T_e88bb_row0_col1\" class=\"data row0 col1\" >$1.95$</td>\n",
       "      <td id=\"T_e88bb_row0_col2\" class=\"data row0 col2\" >$1.75$</td>\n",
       "      <td id=\"T_e88bb_row0_col3\" class=\"data row0 col3\" >$1.74$</td>\n",
       "    </tr>\n",
       "    <tr>\n",
       "      <th id=\"T_e88bb_level0_row1\" class=\"row_heading level0 row1\" >5</th>\n",
       "      <td id=\"T_e88bb_row1_col0\" class=\"data row1 col0\" >$3.31$</td>\n",
       "      <td id=\"T_e88bb_row1_col1\" class=\"data row1 col1\" >$3.65$</td>\n",
       "      <td id=\"T_e88bb_row1_col2\" class=\"data row1 col2\" >$3.90$</td>\n",
       "      <td id=\"T_e88bb_row1_col3\" class=\"data row1 col3\" >$3.99$</td>\n",
       "    </tr>\n",
       "    <tr>\n",
       "      <th id=\"T_e88bb_level0_row2\" class=\"row_heading level0 row2\" >10</th>\n",
       "      <td id=\"T_e88bb_row2_col0\" class=\"data row2 col0\" >$10.26$</td>\n",
       "      <td id=\"T_e88bb_row2_col1\" class=\"data row2 col1\" >$9.24$</td>\n",
       "      <td id=\"T_e88bb_row2_col2\" class=\"data row2 col2\" >$8.73$</td>\n",
       "      <td id=\"T_e88bb_row2_col3\" class=\"data row2 col3\" >$8.44$</td>\n",
       "    </tr>\n",
       "    <tr>\n",
       "      <th id=\"T_e88bb_level0_row3\" class=\"row_heading level0 row3\" >20</th>\n",
       "      <td id=\"T_e88bb_row3_col0\" class=\"data row3 col0\" >$21.07$</td>\n",
       "      <td id=\"T_e88bb_row3_col1\" class=\"data row3 col1\" >$18.31$</td>\n",
       "      <td id=\"T_e88bb_row3_col2\" class=\"data row3 col2\" >$17.87$</td>\n",
       "      <td id=\"T_e88bb_row3_col3\" class=\"data row3 col3\" >$16.95$</td>\n",
       "    </tr>\n",
       "    <tr>\n",
       "      <th id=\"T_e88bb_level0_row4\" class=\"row_heading level0 row4\" >50</th>\n",
       "      <td id=\"T_e88bb_row4_col0\" class=\"data row4 col0\" >$24.96$</td>\n",
       "      <td id=\"T_e88bb_row4_col1\" class=\"data row4 col1\" >$22.79$</td>\n",
       "      <td id=\"T_e88bb_row4_col2\" class=\"data row4 col2\" >$20.30$</td>\n",
       "      <td id=\"T_e88bb_row4_col3\" class=\"data row4 col3\" >$22.56$</td>\n",
       "    </tr>\n",
       "  </tbody>\n",
       "</table>\n"
      ],
      "text/plain": [
       "<pandas.io.formats.style.Styler at 0x7adfdd8b01d0>"
      ]
     },
     "execution_count": 295,
     "metadata": {},
     "output_type": "execute_result"
    }
   ],
   "source": [
    "tab_renamed.style.format('${:.2f}$')"
   ]
  },
  {
   "cell_type": "markdown",
   "id": "1d9ff5db-f9c4-41d7-b9e7-1d77a03cf11b",
   "metadata": {},
   "source": [
    "## Compute mean number of steps for each method"
   ]
  },
  {
   "cell_type": "markdown",
   "id": "156baa25-4596-49c8-b3ef-28b703dc6dbb",
   "metadata": {
    "jp-MarkdownHeadingCollapsed": true
   },
   "source": [
    "### Average over random initialization"
   ]
  },
  {
   "cell_type": "code",
   "execution_count": 296,
   "id": "33f74a51-e731-404d-8bef-b379fe4180fe",
   "metadata": {},
   "outputs": [],
   "source": [
    "df_nsteps = df.loc[:, target_params + method_params + ['method', 'rs', 'N_steps_done']]\n",
    "\n",
    "col_to_avg = [c for c in df_nsteps.columns if c not in ('rs', 'N_steps_done')]\n",
    "df_mean_steps = df_nsteps.groupby(by=col_to_avg, as_index=False, dropna=False).mean()"
   ]
  },
  {
   "cell_type": "markdown",
   "id": "b67526cc-e0c8-4f29-b44c-c0c93468dd44",
   "metadata": {},
   "source": [
    "### Choose best for each target and method (among different values of hyperparameters)"
   ]
  },
  {
   "cell_type": "markdown",
   "id": "88d0caa3-e11a-49d9-a518-2d9a7f95feaa",
   "metadata": {
    "jp-MarkdownHeadingCollapsed": true
   },
   "source": [
    "#### Compute"
   ]
  },
  {
   "cell_type": "code",
   "execution_count": 297,
   "id": "7b8a3e48-15d8-4ee0-b05e-7c9fdafe06f3",
   "metadata": {},
   "outputs": [],
   "source": [
    "tab_n_steps = pd.pivot_table(df_mean_steps, \n",
    "                                index=target_params, \n",
    "                                columns='method', \n",
    "                                values='N_steps_done', aggfunc='min')\n",
    "tab_n_steps = tab_n_steps[method_names]\n",
    "# tab_n_steps = tab_n_steps.rename(columns=lambda _x: f\"{int(_x):2d}\",)"
   ]
  },
  {
   "cell_type": "code",
   "execution_count": 298,
   "id": "38503731-5bbe-4c81-b332-08f198c626ff",
   "metadata": {},
   "outputs": [],
   "source": [
    "\n",
    "tab_n_steps = tab_n_steps.rename(index=lambda _x: f\"{_x:.1f}\" if isinstance(_x, float) else _x, level=1)\n",
    "\n",
    "ts = tab_n_steps\\\n",
    "    .rename_axis(index=[latexify_label(l_) for l_ in tab_n_steps.index.names], \n",
    "                columns=[latexify_label(l_) for l_ in tab_n_steps.columns.names])\\\n",
    "    .style.format('{:.1f}' , escape='latex')\\\n",
    "    .highlight_min(axis=1, props='font-weight:bold')\n",
    "\n",
    "df_mean_steps.to_pickle(os.path.join('./', problem + '_n_steps_by_method.pkl'))\n",
    "ts.to_html(os.path.join(tab_prefix, problem + '_n_steps_by_method.html'))\n",
    "ts.to_latex(os.path.join(tab_prefix, problem + '_n_steps_by_method.tex'),\n",
    "            convert_css=True, hrules=True, clines=\"skip-last;data\")\n",
    "ts.to_latex(os.path.join('./', problem + '_n_steps_by_method.tex'),\n",
    "            convert_css=True, hrules=True, clines=\"skip-last;data\")"
   ]
  },
  {
   "cell_type": "markdown",
   "id": "f045cf34-1566-470e-97f7-f2411b6934d7",
   "metadata": {},
   "source": [
    "#### Result"
   ]
  },
  {
   "cell_type": "code",
   "execution_count": 299,
   "id": "1ff66bbf-7d9c-4802-a2be-98c5712c4612",
   "metadata": {},
   "outputs": [
    {
     "data": {
      "text/html": [
       "<style type=\"text/css\">\n",
       "#T_4f9ed_row0_col2, #T_4f9ed_row1_col2, #T_4f9ed_row2_col2, #T_4f9ed_row3_col2, #T_4f9ed_row4_col2, #T_4f9ed_row5_col2, #T_4f9ed_row6_col2, #T_4f9ed_row7_col2, #T_4f9ed_row8_col2, #T_4f9ed_row9_col2, #T_4f9ed_row10_col2, #T_4f9ed_row11_col2, #T_4f9ed_row12_col2, #T_4f9ed_row13_col2, #T_4f9ed_row14_col2, #T_4f9ed_row15_col2, #T_4f9ed_row16_col1, #T_4f9ed_row17_col1, #T_4f9ed_row18_col2, #T_4f9ed_row19_col2 {\n",
       "  font-weight: bold;\n",
       "}\n",
       "</style>\n",
       "<table id=\"T_4f9ed\">\n",
       "  <thead>\n",
       "    <tr>\n",
       "      <th class=\"blank\" >&nbsp;</th>\n",
       "      <th class=\"index_name level0\" ></th>\n",
       "      <th id=\"T_4f9ed_level0_col0\" class=\"col_heading level0 col0\" >Picard</th>\n",
       "      <th id=\"T_4f9ed_level0_col1\" class=\"col_heading level0 col1\" >RGD</th>\n",
       "      <th id=\"T_4f9ed_level0_col2\" class=\"col_heading level0 col2\" >BWRAM</th>\n",
       "      <th id=\"T_4f9ed_level0_col3\" class=\"col_heading level0 col3\" >RCG</th>\n",
       "    </tr>\n",
       "    <tr>\n",
       "      <th class=\"index_name level0\" >$d$</th>\n",
       "      <th class=\"index_name level1\" >$n_{\\sigma}$</th>\n",
       "      <th class=\"blank col0\" >&nbsp;</th>\n",
       "      <th class=\"blank col1\" >&nbsp;</th>\n",
       "      <th class=\"blank col2\" >&nbsp;</th>\n",
       "      <th class=\"blank col3\" >&nbsp;</th>\n",
       "    </tr>\n",
       "  </thead>\n",
       "  <tbody>\n",
       "    <tr>\n",
       "      <th id=\"T_4f9ed_level0_row0\" class=\"row_heading level0 row0\" rowspan=\"4\">3</th>\n",
       "      <th id=\"T_4f9ed_level1_row0\" class=\"row_heading level1 row0\" >3</th>\n",
       "      <td id=\"T_4f9ed_row0_col0\" class=\"data row0 col0\" >27.0</td>\n",
       "      <td id=\"T_4f9ed_row0_col1\" class=\"data row0 col1\" >30.3</td>\n",
       "      <td id=\"T_4f9ed_row0_col2\" class=\"data row0 col2\" >12.8</td>\n",
       "      <td id=\"T_4f9ed_row0_col3\" class=\"data row0 col3\" >31.0</td>\n",
       "    </tr>\n",
       "    <tr>\n",
       "      <th id=\"T_4f9ed_level1_row1\" class=\"row_heading level1 row1\" >5</th>\n",
       "      <td id=\"T_4f9ed_row1_col0\" class=\"data row1 col0\" >26.5</td>\n",
       "      <td id=\"T_4f9ed_row1_col1\" class=\"data row1 col1\" >21.5</td>\n",
       "      <td id=\"T_4f9ed_row1_col2\" class=\"data row1 col2\" >13.8</td>\n",
       "      <td id=\"T_4f9ed_row1_col3\" class=\"data row1 col3\" >24.5</td>\n",
       "    </tr>\n",
       "    <tr>\n",
       "      <th id=\"T_4f9ed_level1_row2\" class=\"row_heading level1 row2\" >10</th>\n",
       "      <td id=\"T_4f9ed_row2_col0\" class=\"data row2 col0\" >23.3</td>\n",
       "      <td id=\"T_4f9ed_row2_col1\" class=\"data row2 col1\" >15.8</td>\n",
       "      <td id=\"T_4f9ed_row2_col2\" class=\"data row2 col2\" >13.4</td>\n",
       "      <td id=\"T_4f9ed_row2_col3\" class=\"data row2 col3\" >22.4</td>\n",
       "    </tr>\n",
       "    <tr>\n",
       "      <th id=\"T_4f9ed_level1_row3\" class=\"row_heading level1 row3\" >20</th>\n",
       "      <td id=\"T_4f9ed_row3_col0\" class=\"data row3 col0\" >22.9</td>\n",
       "      <td id=\"T_4f9ed_row3_col1\" class=\"data row3 col1\" >16.3</td>\n",
       "      <td id=\"T_4f9ed_row3_col2\" class=\"data row3 col2\" >13.3</td>\n",
       "      <td id=\"T_4f9ed_row3_col3\" class=\"data row3 col3\" >26.1</td>\n",
       "    </tr>\n",
       "    <tr>\n",
       "      <th id=\"T_4f9ed_level0_row4\" class=\"row_heading level0 row4\" rowspan=\"4\">5</th>\n",
       "      <th id=\"T_4f9ed_level1_row4\" class=\"row_heading level1 row4\" >3</th>\n",
       "      <td id=\"T_4f9ed_row4_col0\" class=\"data row4 col0\" >72.1</td>\n",
       "      <td id=\"T_4f9ed_row4_col1\" class=\"data row4 col1\" >33.3</td>\n",
       "      <td id=\"T_4f9ed_row4_col2\" class=\"data row4 col2\" >23.2</td>\n",
       "      <td id=\"T_4f9ed_row4_col3\" class=\"data row4 col3\" >32.5</td>\n",
       "    </tr>\n",
       "    <tr>\n",
       "      <th id=\"T_4f9ed_level1_row5\" class=\"row_heading level1 row5\" >5</th>\n",
       "      <td id=\"T_4f9ed_row5_col0\" class=\"data row5 col0\" >46.1</td>\n",
       "      <td id=\"T_4f9ed_row5_col1\" class=\"data row5 col1\" >17.2</td>\n",
       "      <td id=\"T_4f9ed_row5_col2\" class=\"data row5 col2\" >13.5</td>\n",
       "      <td id=\"T_4f9ed_row5_col3\" class=\"data row5 col3\" >24.5</td>\n",
       "    </tr>\n",
       "    <tr>\n",
       "      <th id=\"T_4f9ed_level1_row6\" class=\"row_heading level1 row6\" >10</th>\n",
       "      <td id=\"T_4f9ed_row6_col0\" class=\"data row6 col0\" >41.8</td>\n",
       "      <td id=\"T_4f9ed_row6_col1\" class=\"data row6 col1\" >16.6</td>\n",
       "      <td id=\"T_4f9ed_row6_col2\" class=\"data row6 col2\" >11.2</td>\n",
       "      <td id=\"T_4f9ed_row6_col3\" class=\"data row6 col3\" >21.3</td>\n",
       "    </tr>\n",
       "    <tr>\n",
       "      <th id=\"T_4f9ed_level1_row7\" class=\"row_heading level1 row7\" >20</th>\n",
       "      <td id=\"T_4f9ed_row7_col0\" class=\"data row7 col0\" >39.3</td>\n",
       "      <td id=\"T_4f9ed_row7_col1\" class=\"data row7 col1\" >14.8</td>\n",
       "      <td id=\"T_4f9ed_row7_col2\" class=\"data row7 col2\" >10.0</td>\n",
       "      <td id=\"T_4f9ed_row7_col3\" class=\"data row7 col3\" >22.1</td>\n",
       "    </tr>\n",
       "    <tr>\n",
       "      <th id=\"T_4f9ed_level0_row8\" class=\"row_heading level0 row8\" rowspan=\"4\">10</th>\n",
       "      <th id=\"T_4f9ed_level1_row8\" class=\"row_heading level1 row8\" >3</th>\n",
       "      <td id=\"T_4f9ed_row8_col0\" class=\"data row8 col0\" >120.9</td>\n",
       "      <td id=\"T_4f9ed_row8_col1\" class=\"data row8 col1\" >25.2</td>\n",
       "      <td id=\"T_4f9ed_row8_col2\" class=\"data row8 col2\" >11.9</td>\n",
       "      <td id=\"T_4f9ed_row8_col3\" class=\"data row8 col3\" >30.8</td>\n",
       "    </tr>\n",
       "    <tr>\n",
       "      <th id=\"T_4f9ed_level1_row9\" class=\"row_heading level1 row9\" >5</th>\n",
       "      <td id=\"T_4f9ed_row9_col0\" class=\"data row9 col0\" >94.1</td>\n",
       "      <td id=\"T_4f9ed_row9_col1\" class=\"data row9 col1\" >18.7</td>\n",
       "      <td id=\"T_4f9ed_row9_col2\" class=\"data row9 col2\" >10.3</td>\n",
       "      <td id=\"T_4f9ed_row9_col3\" class=\"data row9 col3\" >26.7</td>\n",
       "    </tr>\n",
       "    <tr>\n",
       "      <th id=\"T_4f9ed_level1_row10\" class=\"row_heading level1 row10\" >10</th>\n",
       "      <td id=\"T_4f9ed_row10_col0\" class=\"data row10 col0\" >89.7</td>\n",
       "      <td id=\"T_4f9ed_row10_col1\" class=\"data row10 col1\" >15.6</td>\n",
       "      <td id=\"T_4f9ed_row10_col2\" class=\"data row10 col2\" >10.4</td>\n",
       "      <td id=\"T_4f9ed_row10_col3\" class=\"data row10 col3\" >22.7</td>\n",
       "    </tr>\n",
       "    <tr>\n",
       "      <th id=\"T_4f9ed_level1_row11\" class=\"row_heading level1 row11\" >20</th>\n",
       "      <td id=\"T_4f9ed_row11_col0\" class=\"data row11 col0\" >82.8</td>\n",
       "      <td id=\"T_4f9ed_row11_col1\" class=\"data row11 col1\" >13.5</td>\n",
       "      <td id=\"T_4f9ed_row11_col2\" class=\"data row11 col2\" >9.8</td>\n",
       "      <td id=\"T_4f9ed_row11_col3\" class=\"data row11 col3\" >16.5</td>\n",
       "    </tr>\n",
       "    <tr>\n",
       "      <th id=\"T_4f9ed_level0_row12\" class=\"row_heading level0 row12\" rowspan=\"4\">20</th>\n",
       "      <th id=\"T_4f9ed_level1_row12\" class=\"row_heading level1 row12\" >3</th>\n",
       "      <td id=\"T_4f9ed_row12_col0\" class=\"data row12 col0\" >245.7</td>\n",
       "      <td id=\"T_4f9ed_row12_col1\" class=\"data row12 col1\" >23.9</td>\n",
       "      <td id=\"T_4f9ed_row12_col2\" class=\"data row12 col2\" >11.8</td>\n",
       "      <td id=\"T_4f9ed_row12_col3\" class=\"data row12 col3\" >28.5</td>\n",
       "    </tr>\n",
       "    <tr>\n",
       "      <th id=\"T_4f9ed_level1_row13\" class=\"row_heading level1 row13\" >5</th>\n",
       "      <td id=\"T_4f9ed_row13_col0\" class=\"data row13 col0\" >206.0</td>\n",
       "      <td id=\"T_4f9ed_row13_col1\" class=\"data row13 col1\" >19.7</td>\n",
       "      <td id=\"T_4f9ed_row13_col2\" class=\"data row13 col2\" >11.3</td>\n",
       "      <td id=\"T_4f9ed_row13_col3\" class=\"data row13 col3\" >30.5</td>\n",
       "    </tr>\n",
       "    <tr>\n",
       "      <th id=\"T_4f9ed_level1_row14\" class=\"row_heading level1 row14\" >10</th>\n",
       "      <td id=\"T_4f9ed_row14_col0\" class=\"data row14 col0\" >192.8</td>\n",
       "      <td id=\"T_4f9ed_row14_col1\" class=\"data row14 col1\" >18.5</td>\n",
       "      <td id=\"T_4f9ed_row14_col2\" class=\"data row14 col2\" >10.8</td>\n",
       "      <td id=\"T_4f9ed_row14_col3\" class=\"data row14 col3\" >27.5</td>\n",
       "    </tr>\n",
       "    <tr>\n",
       "      <th id=\"T_4f9ed_level1_row15\" class=\"row_heading level1 row15\" >20</th>\n",
       "      <td id=\"T_4f9ed_row15_col0\" class=\"data row15 col0\" >177.5</td>\n",
       "      <td id=\"T_4f9ed_row15_col1\" class=\"data row15 col1\" >14.5</td>\n",
       "      <td id=\"T_4f9ed_row15_col2\" class=\"data row15 col2\" >10.6</td>\n",
       "      <td id=\"T_4f9ed_row15_col3\" class=\"data row15 col3\" >14.8</td>\n",
       "    </tr>\n",
       "    <tr>\n",
       "      <th id=\"T_4f9ed_level0_row16\" class=\"row_heading level0 row16\" rowspan=\"4\">50</th>\n",
       "      <th id=\"T_4f9ed_level1_row16\" class=\"row_heading level1 row16\" >3</th>\n",
       "      <td id=\"T_4f9ed_row16_col0\" class=\"data row16 col0\" >707.5</td>\n",
       "      <td id=\"T_4f9ed_row16_col1\" class=\"data row16 col1\" >28.0</td>\n",
       "      <td id=\"T_4f9ed_row16_col2\" class=\"data row16 col2\" >28.4</td>\n",
       "      <td id=\"T_4f9ed_row16_col3\" class=\"data row16 col3\" >32.2</td>\n",
       "    </tr>\n",
       "    <tr>\n",
       "      <th id=\"T_4f9ed_level1_row17\" class=\"row_heading level1 row17\" >5</th>\n",
       "      <td id=\"T_4f9ed_row17_col0\" class=\"data row17 col0\" >601.3</td>\n",
       "      <td id=\"T_4f9ed_row17_col1\" class=\"data row17 col1\" >22.8</td>\n",
       "      <td id=\"T_4f9ed_row17_col2\" class=\"data row17 col2\" >26.5</td>\n",
       "      <td id=\"T_4f9ed_row17_col3\" class=\"data row17 col3\" >35.1</td>\n",
       "    </tr>\n",
       "    <tr>\n",
       "      <th id=\"T_4f9ed_level1_row18\" class=\"row_heading level1 row18\" >10</th>\n",
       "      <td id=\"T_4f9ed_row18_col0\" class=\"data row18 col0\" >506.9</td>\n",
       "      <td id=\"T_4f9ed_row18_col1\" class=\"data row18 col1\" >25.8</td>\n",
       "      <td id=\"T_4f9ed_row18_col2\" class=\"data row18 col2\" >25.5</td>\n",
       "      <td id=\"T_4f9ed_row18_col3\" class=\"data row18 col3\" >44.3</td>\n",
       "    </tr>\n",
       "    <tr>\n",
       "      <th id=\"T_4f9ed_level1_row19\" class=\"row_heading level1 row19\" >20</th>\n",
       "      <td id=\"T_4f9ed_row19_col0\" class=\"data row19 col0\" >461.2</td>\n",
       "      <td id=\"T_4f9ed_row19_col1\" class=\"data row19 col1\" >23.5</td>\n",
       "      <td id=\"T_4f9ed_row19_col2\" class=\"data row19 col2\" >20.5</td>\n",
       "      <td id=\"T_4f9ed_row19_col3\" class=\"data row19 col3\" >40.5</td>\n",
       "    </tr>\n",
       "  </tbody>\n",
       "</table>\n"
      ],
      "text/plain": [
       "<pandas.io.formats.style.Styler at 0x7adfde96c0b0>"
      ]
     },
     "execution_count": 299,
     "metadata": {},
     "output_type": "execute_result"
    }
   ],
   "source": [
    "ts"
   ]
  },
  {
   "cell_type": "markdown",
   "id": "031adc95-754a-48ad-b4f8-ee413e28e93c",
   "metadata": {},
   "source": [
    "## Plotting"
   ]
  },
  {
   "cell_type": "code",
   "execution_count": 300,
   "id": "66b7cb08-2dcf-49b1-93fd-212ce92be32d",
   "metadata": {},
   "outputs": [],
   "source": [
    "m = \"BWRAM\""
   ]
  },
  {
   "cell_type": "markdown",
   "id": "b66d5503-cd40-429b-961c-d4b1ae91ace7",
   "metadata": {},
   "source": [
    "### $\\operatorname{OU}$"
   ]
  },
  {
   "cell_type": "code",
   "execution_count": 301,
   "id": "14068f2c-3e85-430f-ac59-ce48b31d307e",
   "metadata": {},
   "outputs": [],
   "source": [
    "if problem == 'OU':\n",
    "    df_to_plot = df\\\n",
    "        .query(\"(dim == 4 and sigma_max == 20.0 and rs == 5) and ((method != @m) or (method == @m and history_len <= 9.0))\")\n",
    "    rp = df_to_plot.to_dict('records')\n",
    "    \n",
    "    probl = OUEvolution(**rp[0])\n",
    "    \n",
    "    fig = _plot_figure(probl, rp, './', key='residuals', n_max_plot=5)\n",
    "    \n",
    "    %matplotlib inline\n",
    "    \n",
    "    ax : plt.axes = fig.get_axes()[0]\n",
    "    # ax.set_ylabel(r'$r(\\Sigma_k| \\Sigma_*)$')\n",
    "    ax.set_ylim(bottom=(term_val-0.3*term_val), top=rp[0]['residuals'][0]*1.1)\n",
    "    fig.tight_layout()\n",
    "    fig.savefig(\"OU_conv_final.pdf\")"
   ]
  },
  {
   "cell_type": "markdown",
   "id": "ac4a5487-204b-4e52-82c5-56052770c1ba",
   "metadata": {},
   "source": [
    "### $\\operatorname{KL}$"
   ]
  },
  {
   "cell_type": "code",
   "execution_count": 302,
   "id": "68217d74-2000-499c-8531-8ea4c89de568",
   "metadata": {},
   "outputs": [],
   "source": [
    "m = 'BWRAM'\n",
    "if problem == 'KL':\n",
    "    df_to_plot = df\\\n",
    "        .query(\"(dim == 4 and sigma_max == 20.0 and rs == 5) and ((method != @m) or (method == @m and relaxation == 0.9 and l_inf_bound_Gamma == 1.5 and history_len <= 7.0))\")\n",
    "    rp = df_to_plot.to_dict('records')\n",
    "    \n",
    "    probl = WGKL(**rp[0])\n",
    "    \n",
    "    fig = _plot_figure(probl, rp, './', key='costs', n_max_plot=10)\n",
    "    \n",
    "    %matplotlib inline\n",
    "    \n",
    "    ax : plt.axes = fig.get_axes()[0]\n",
    "    ax.set_ylabel(r'$\\operatorname{KL}(\\Sigma_k| \\Sigma_*)$')\n",
    "    ax.set_ylim(bottom=(term_val-0.3*term_val), top=rp[0]['costs'][0]*1.1)\n",
    "    fig.tight_layout()\n",
    "    fig.savefig(\"KL_conv_final.pdf\")"
   ]
  },
  {
   "cell_type": "markdown",
   "id": "6114f97e-dbd9-43c5-a1e1-9bc9433be8be",
   "metadata": {},
   "source": [
    "### Barycenters"
   ]
  },
  {
   "cell_type": "code",
   "execution_count": 303,
   "id": "1d2eb120-c432-439d-903a-803806671bf6",
   "metadata": {},
   "outputs": [],
   "source": [
    "if problem == 'BC':\n",
    "    df_to_plot = df\\\n",
    "        .query(\"(dim == 50 and n_sigmas == 3 and rs == 4) and ((method != @m) or (method == @m and relaxation == 1.2 and  l_inf_bound_Gamma == 1.5 and history_len <= 11.0))\")\n",
    "        #.query(\"(dim == 20 and n_sigmas == 3 and rs == 2) and ((method != @m) or (method == @m and relaxation == 1.2 and  l_inf_bound_Gamma == 1.5 and history_len <= 11.0))\")\n",
    "    rp = df_to_plot.to_dict('records')\n",
    "    \n",
    "    probl = Barycenter(**rp[0])\n",
    "    \n",
    "    fig = _plot_figure(probl, rp, './', key='costs_to_0', n_max_plot=10)\n",
    "    \n",
    "    \n",
    "    ax : plt.axes = fig.get_axes()[0]\n",
    "    ax.set_ylabel(r'$B(\\Sigma_k) - B(\\Sigma_*)$')\n",
    "    ax.set_xlim(left=0, right=rp[0]['N_steps_done'])\n",
    "    ax.set_ylim(bottom=(term_val-0.3*term_val), top=rp[0]['costs_to_0'][0]*1.1)\n",
    "    fig.tight_layout()\n",
    "    fig.savefig(\"BC_conv_final.pdf\")"
   ]
  },
  {
   "cell_type": "markdown",
   "id": "4109f18d-7dd1-41aa-8201-d8b529bebe8c",
   "metadata": {},
   "source": [
    "### Entropic Barycenter"
   ]
  },
  {
   "cell_type": "code",
   "execution_count": 304,
   "id": "24af90c4-6645-4f2c-8c8c-bd1d0aa9c286",
   "metadata": {},
   "outputs": [],
   "source": [
    "m = 'BWRAM'\n",
    "if problem == 'EntBC':\n",
    "    key_to_plot = 'costs_to_0'\n",
    "    df_to_plot = df\\\n",
    "        .query(\"(dim == 50 and n_sigmas == 3 and rs == 4) and ((method != @m) or (method == @m and relaxation == 1.2 and l_inf_bound_Gamma == 1.5))\")\n",
    "    rp = df_to_plot.to_dict('records')\n",
    "    \n",
    "    probl = EntropicBarycenter(**rp[0])\n",
    "    \n",
    "    fig = _plot_figure(probl, rp, './', key=key_to_plot, n_max_plot=10)\n",
    "    \n",
    "    \n",
    "    ax : plt.axes = fig.get_axes()[0]\n",
    "    ax.set_ylabel(r'$B_\\gamma(\\Sigma_k) - B_\\gamma(\\Sigma_*)$')\n",
    "    ax.set_xlim(left=0, right=rp[0]['N_steps_done'])\n",
    "    ax.set_ylim(bottom=max(1e-11, (0.9*rp[0][key_to_plot][-1])), top=rp[0][key_to_plot][0]*1.1)\n",
    "    fig.tight_layout()\n",
    "    fig.savefig(\"EntBC_conv_final.pdf\")"
   ]
  },
  {
   "cell_type": "markdown",
   "id": "459ac570-5ead-45d8-9bcb-d034b77e637d",
   "metadata": {},
   "source": [
    "### Medians"
   ]
  },
  {
   "cell_type": "code",
   "execution_count": 311,
   "id": "872c44d9-5c9c-4db0-ba74-9f1b4700a1fa",
   "metadata": {},
   "outputs": [
    {
     "data": {
      "image/png": "[encoded data removed]",
      "text/plain": [
       "<Figure size 1000x1000 with 1 Axes>"
      ]
     },
     "metadata": {},
     "output_type": "display_data"
    }
   ],
   "source": [
    "m = 'BWRAM'\n",
    "if problem == 'Median':\n",
    "    key_to_plot = 'costs_to_0'\n",
    "    df_to_plot = df\\\n",
    "        .query(\"(dim == 50 and n_sigmas == 3 and rs == 2) and ((method != @m) or (method == @m and relaxation == 10. and l_inf_bound_Gamma == 1.50))\")\n",
    "    rp = df_to_plot.to_dict('records')\n",
    "    \n",
    "    probl = Median(**rp[0])\n",
    "    \n",
    "    fig = _plot_figure(probl, rp, './', key=key_to_plot, n_max_plot=10)\n",
    "    \n",
    "    \n",
    "    ax : plt.axes = fig.get_axes()[0]\n",
    "    ax.set_ylabel(r'$M_\\varepsilon(\\Sigma_k) - M_\\varepsilon(\\Sigma_*)$')\n",
    "    # ax.set_xlim(left=0, right=rp[0]['N_steps_done'])\n",
    "    ax.set_xlim(left=0, right=100)\n",
    "    ax.set_ylim(bottom=max(rp[0][key_to_plot][-1], term_val)*0.9, top=rp[0][key_to_plot][0]*1.1)\n",
    "    fig.tight_layout()\n",
    "    fig.savefig(\"Median_conv_final.pdf\")"
   ]
  },
  {
   "cell_type": "markdown",
   "id": "90365d21-aa52-48ca-8964-84dd46f367d1",
   "metadata": {},
   "source": [
    "## Common table for 3 last experiments"
   ]
  },
  {
   "cell_type": "code",
   "execution_count": 306,
   "id": "25deaeea-2b6d-428f-a64d-19a6bb3aea1d",
   "metadata": {},
   "outputs": [],
   "source": [
    "probls = [\"BC\", \"EntBC\", \"Median\"]\n",
    "dfs = [pd.read_pickle(_p + '_n_steps_by_method.pkl') for _p in probls]\n",
    "for _p, _df in zip(probls, dfs):\n",
    "    _df['problem'] = _p\n",
    "df_all = pd.concat(dfs)\n",
    "tab_n_steps = pd.pivot_table(df_all, \n",
    "                                index=target_params, \n",
    "                                columns=['problem', 'method'], \n",
    "                                values='N_steps_done', aggfunc='min')\n",
    "\n",
    "tab_n_steps = tab_n_steps.rename(index=lambda _x: f\"{_x:.1f}\" if isinstance(_x, float) else _x, level=1)"
   ]
  },
  {
   "cell_type": "code",
   "execution_count": 307,
   "id": "0beab050-d62e-4793-b098-e67a95e7ac8c",
   "metadata": {},
   "outputs": [
    {
     "data": {
      "text/html": [
       "<style type=\"text/css\">\n",
       "#T_90f43_row0_col0, #T_90f43_row0_col4, #T_90f43_row0_col8, #T_90f43_row1_col0, #T_90f43_row1_col4, #T_90f43_row1_col8, #T_90f43_row2_col0, #T_90f43_row2_col4, #T_90f43_row2_col8, #T_90f43_row3_col0, #T_90f43_row3_col4, #T_90f43_row3_col8, #T_90f43_row4_col0, #T_90f43_row4_col4, #T_90f43_row4_col8, #T_90f43_row5_col0, #T_90f43_row5_col4, #T_90f43_row5_col8, #T_90f43_row6_col0, #T_90f43_row6_col4, #T_90f43_row6_col8, #T_90f43_row7_col0, #T_90f43_row7_col4, #T_90f43_row7_col8, #T_90f43_row8_col0, #T_90f43_row8_col4, #T_90f43_row8_col8, #T_90f43_row9_col0, #T_90f43_row9_col4, #T_90f43_row9_col8, #T_90f43_row10_col0, #T_90f43_row10_col4, #T_90f43_row10_col8, #T_90f43_row11_col0, #T_90f43_row11_col4, #T_90f43_row11_col8, #T_90f43_row12_col0, #T_90f43_row12_col4, #T_90f43_row12_col8, #T_90f43_row13_col0, #T_90f43_row13_col4, #T_90f43_row13_col8, #T_90f43_row14_col0, #T_90f43_row14_col4, #T_90f43_row14_col8, #T_90f43_row15_col0, #T_90f43_row15_col4, #T_90f43_row15_col8, #T_90f43_row16_col0, #T_90f43_row16_col4, #T_90f43_row16_col11, #T_90f43_row17_col0, #T_90f43_row17_col4, #T_90f43_row17_col11, #T_90f43_row18_col0, #T_90f43_row18_col4, #T_90f43_row18_col8, #T_90f43_row19_col0, #T_90f43_row19_col4, #T_90f43_row19_col8 {\n",
       "  font-weight: bold;\n",
       "}\n",
       "</style>\n",
       "<table id=\"T_90f43\">\n",
       "  <thead>\n",
       "    <tr>\n",
       "      <th class=\"blank\" >&nbsp;</th>\n",
       "      <th class=\"index_name level0\" >problem</th>\n",
       "      <th id=\"T_90f43_level0_col0\" class=\"col_heading level0 col0\" colspan=\"4\">BC</th>\n",
       "      <th id=\"T_90f43_level0_col4\" class=\"col_heading level0 col4\" colspan=\"4\">EntBC</th>\n",
       "      <th id=\"T_90f43_level0_col8\" class=\"col_heading level0 col8\" colspan=\"4\">Median</th>\n",
       "    </tr>\n",
       "    <tr>\n",
       "      <th class=\"blank\" >&nbsp;</th>\n",
       "      <th class=\"index_name level1\" ></th>\n",
       "      <th id=\"T_90f43_level1_col0\" class=\"col_heading level1 col0\" >BWRAM</th>\n",
       "      <th id=\"T_90f43_level1_col1\" class=\"col_heading level1 col1\" >Picard</th>\n",
       "      <th id=\"T_90f43_level1_col2\" class=\"col_heading level1 col2\" >RCG</th>\n",
       "      <th id=\"T_90f43_level1_col3\" class=\"col_heading level1 col3\" >RGD</th>\n",
       "      <th id=\"T_90f43_level1_col4\" class=\"col_heading level1 col4\" >BWRAM</th>\n",
       "      <th id=\"T_90f43_level1_col5\" class=\"col_heading level1 col5\" >Picard</th>\n",
       "      <th id=\"T_90f43_level1_col6\" class=\"col_heading level1 col6\" >RCG</th>\n",
       "      <th id=\"T_90f43_level1_col7\" class=\"col_heading level1 col7\" >RGD</th>\n",
       "      <th id=\"T_90f43_level1_col8\" class=\"col_heading level1 col8\" >BWRAM</th>\n",
       "      <th id=\"T_90f43_level1_col9\" class=\"col_heading level1 col9\" >Picard</th>\n",
       "      <th id=\"T_90f43_level1_col10\" class=\"col_heading level1 col10\" >RCG</th>\n",
       "      <th id=\"T_90f43_level1_col11\" class=\"col_heading level1 col11\" >RGD</th>\n",
       "    </tr>\n",
       "    <tr>\n",
       "      <th class=\"index_name level0\" >$d$</th>\n",
       "      <th class=\"index_name level1\" >$n_{\\sigma}$</th>\n",
       "      <th class=\"blank col0\" >&nbsp;</th>\n",
       "      <th class=\"blank col1\" >&nbsp;</th>\n",
       "      <th class=\"blank col2\" >&nbsp;</th>\n",
       "      <th class=\"blank col3\" >&nbsp;</th>\n",
       "      <th class=\"blank col4\" >&nbsp;</th>\n",
       "      <th class=\"blank col5\" >&nbsp;</th>\n",
       "      <th class=\"blank col6\" >&nbsp;</th>\n",
       "      <th class=\"blank col7\" >&nbsp;</th>\n",
       "      <th class=\"blank col8\" >&nbsp;</th>\n",
       "      <th class=\"blank col9\" >&nbsp;</th>\n",
       "      <th class=\"blank col10\" >&nbsp;</th>\n",
       "      <th class=\"blank col11\" >&nbsp;</th>\n",
       "    </tr>\n",
       "  </thead>\n",
       "  <tbody>\n",
       "    <tr>\n",
       "      <th id=\"T_90f43_level0_row0\" class=\"row_heading level0 row0\" rowspan=\"4\">3</th>\n",
       "      <th id=\"T_90f43_level1_row0\" class=\"row_heading level1 row0\" >3</th>\n",
       "      <td id=\"T_90f43_row0_col0\" class=\"data row0 col0\" >5.4</td>\n",
       "      <td id=\"T_90f43_row0_col1\" class=\"data row0 col1\" >6.2</td>\n",
       "      <td id=\"T_90f43_row0_col2\" class=\"data row0 col2\" >31.6</td>\n",
       "      <td id=\"T_90f43_row0_col3\" class=\"data row0 col3\" >14.4</td>\n",
       "      <td id=\"T_90f43_row0_col4\" class=\"data row0 col4\" >4.4</td>\n",
       "      <td id=\"T_90f43_row0_col5\" class=\"data row0 col5\" >6.6</td>\n",
       "      <td id=\"T_90f43_row0_col6\" class=\"data row0 col6\" >15.8</td>\n",
       "      <td id=\"T_90f43_row0_col7\" class=\"data row0 col7\" >8.8</td>\n",
       "      <td id=\"T_90f43_row0_col8\" class=\"data row0 col8\" >12.8</td>\n",
       "      <td id=\"T_90f43_row0_col9\" class=\"data row0 col9\" >27.0</td>\n",
       "      <td id=\"T_90f43_row0_col10\" class=\"data row0 col10\" >31.0</td>\n",
       "      <td id=\"T_90f43_row0_col11\" class=\"data row0 col11\" >30.3</td>\n",
       "    </tr>\n",
       "    <tr>\n",
       "      <th id=\"T_90f43_level1_row1\" class=\"row_heading level1 row1\" >5</th>\n",
       "      <td id=\"T_90f43_row1_col0\" class=\"data row1 col0\" >7.0</td>\n",
       "      <td id=\"T_90f43_row1_col1\" class=\"data row1 col1\" >9.8</td>\n",
       "      <td id=\"T_90f43_row1_col2\" class=\"data row1 col2\" >29.0</td>\n",
       "      <td id=\"T_90f43_row1_col3\" class=\"data row1 col3\" >16.6</td>\n",
       "      <td id=\"T_90f43_row1_col4\" class=\"data row1 col4\" >5.8</td>\n",
       "      <td id=\"T_90f43_row1_col5\" class=\"data row1 col5\" >10.6</td>\n",
       "      <td id=\"T_90f43_row1_col6\" class=\"data row1 col6\" >12.2</td>\n",
       "      <td id=\"T_90f43_row1_col7\" class=\"data row1 col7\" >9.0</td>\n",
       "      <td id=\"T_90f43_row1_col8\" class=\"data row1 col8\" >13.8</td>\n",
       "      <td id=\"T_90f43_row1_col9\" class=\"data row1 col9\" >26.5</td>\n",
       "      <td id=\"T_90f43_row1_col10\" class=\"data row1 col10\" >24.5</td>\n",
       "      <td id=\"T_90f43_row1_col11\" class=\"data row1 col11\" >21.5</td>\n",
       "    </tr>\n",
       "    <tr>\n",
       "      <th id=\"T_90f43_level1_row2\" class=\"row_heading level1 row2\" >10</th>\n",
       "      <td id=\"T_90f43_row2_col0\" class=\"data row2 col0\" >6.8</td>\n",
       "      <td id=\"T_90f43_row2_col1\" class=\"data row2 col1\" >8.6</td>\n",
       "      <td id=\"T_90f43_row2_col2\" class=\"data row2 col2\" >28.6</td>\n",
       "      <td id=\"T_90f43_row2_col3\" class=\"data row2 col3\" >15.8</td>\n",
       "      <td id=\"T_90f43_row2_col4\" class=\"data row2 col4\" >4.8</td>\n",
       "      <td id=\"T_90f43_row2_col5\" class=\"data row2 col5\" >10.4</td>\n",
       "      <td id=\"T_90f43_row2_col6\" class=\"data row2 col6\" >16.4</td>\n",
       "      <td id=\"T_90f43_row2_col7\" class=\"data row2 col7\" >9.8</td>\n",
       "      <td id=\"T_90f43_row2_col8\" class=\"data row2 col8\" >13.4</td>\n",
       "      <td id=\"T_90f43_row2_col9\" class=\"data row2 col9\" >23.3</td>\n",
       "      <td id=\"T_90f43_row2_col10\" class=\"data row2 col10\" >22.4</td>\n",
       "      <td id=\"T_90f43_row2_col11\" class=\"data row2 col11\" >15.8</td>\n",
       "    </tr>\n",
       "    <tr>\n",
       "      <th id=\"T_90f43_level1_row3\" class=\"row_heading level1 row3\" >20</th>\n",
       "      <td id=\"T_90f43_row3_col0\" class=\"data row3 col0\" >6.6</td>\n",
       "      <td id=\"T_90f43_row3_col1\" class=\"data row3 col1\" >9.0</td>\n",
       "      <td id=\"T_90f43_row3_col2\" class=\"data row3 col2\" >26.2</td>\n",
       "      <td id=\"T_90f43_row3_col3\" class=\"data row3 col3\" >15.2</td>\n",
       "      <td id=\"T_90f43_row3_col4\" class=\"data row3 col4\" >5.0</td>\n",
       "      <td id=\"T_90f43_row3_col5\" class=\"data row3 col5\" >9.2</td>\n",
       "      <td id=\"T_90f43_row3_col6\" class=\"data row3 col6\" >13.4</td>\n",
       "      <td id=\"T_90f43_row3_col7\" class=\"data row3 col7\" >10.0</td>\n",
       "      <td id=\"T_90f43_row3_col8\" class=\"data row3 col8\" >13.3</td>\n",
       "      <td id=\"T_90f43_row3_col9\" class=\"data row3 col9\" >22.9</td>\n",
       "      <td id=\"T_90f43_row3_col10\" class=\"data row3 col10\" >26.1</td>\n",
       "      <td id=\"T_90f43_row3_col11\" class=\"data row3 col11\" >16.3</td>\n",
       "    </tr>\n",
       "    <tr>\n",
       "      <th id=\"T_90f43_level0_row4\" class=\"row_heading level0 row4\" rowspan=\"4\">5</th>\n",
       "      <th id=\"T_90f43_level1_row4\" class=\"row_heading level1 row4\" >3</th>\n",
       "      <td id=\"T_90f43_row4_col0\" class=\"data row4 col0\" >7.4</td>\n",
       "      <td id=\"T_90f43_row4_col1\" class=\"data row4 col1\" >9.8</td>\n",
       "      <td id=\"T_90f43_row4_col2\" class=\"data row4 col2\" >32.4</td>\n",
       "      <td id=\"T_90f43_row4_col3\" class=\"data row4 col3\" >18.0</td>\n",
       "      <td id=\"T_90f43_row4_col4\" class=\"data row4 col4\" >6.4</td>\n",
       "      <td id=\"T_90f43_row4_col5\" class=\"data row4 col5\" >8.8</td>\n",
       "      <td id=\"T_90f43_row4_col6\" class=\"data row4 col6\" >14.2</td>\n",
       "      <td id=\"T_90f43_row4_col7\" class=\"data row4 col7\" >9.0</td>\n",
       "      <td id=\"T_90f43_row4_col8\" class=\"data row4 col8\" >23.2</td>\n",
       "      <td id=\"T_90f43_row4_col9\" class=\"data row4 col9\" >72.1</td>\n",
       "      <td id=\"T_90f43_row4_col10\" class=\"data row4 col10\" >32.5</td>\n",
       "      <td id=\"T_90f43_row4_col11\" class=\"data row4 col11\" >33.3</td>\n",
       "    </tr>\n",
       "    <tr>\n",
       "      <th id=\"T_90f43_level1_row5\" class=\"row_heading level1 row5\" >5</th>\n",
       "      <td id=\"T_90f43_row5_col0\" class=\"data row5 col0\" >7.2</td>\n",
       "      <td id=\"T_90f43_row5_col1\" class=\"data row5 col1\" >9.6</td>\n",
       "      <td id=\"T_90f43_row5_col2\" class=\"data row5 col2\" >34.8</td>\n",
       "      <td id=\"T_90f43_row5_col3\" class=\"data row5 col3\" >18.2</td>\n",
       "      <td id=\"T_90f43_row5_col4\" class=\"data row5 col4\" >5.6</td>\n",
       "      <td id=\"T_90f43_row5_col5\" class=\"data row5 col5\" >8.2</td>\n",
       "      <td id=\"T_90f43_row5_col6\" class=\"data row5 col6\" >15.8</td>\n",
       "      <td id=\"T_90f43_row5_col7\" class=\"data row5 col7\" >9.8</td>\n",
       "      <td id=\"T_90f43_row5_col8\" class=\"data row5 col8\" >13.5</td>\n",
       "      <td id=\"T_90f43_row5_col9\" class=\"data row5 col9\" >46.1</td>\n",
       "      <td id=\"T_90f43_row5_col10\" class=\"data row5 col10\" >24.5</td>\n",
       "      <td id=\"T_90f43_row5_col11\" class=\"data row5 col11\" >17.2</td>\n",
       "    </tr>\n",
       "    <tr>\n",
       "      <th id=\"T_90f43_level1_row6\" class=\"row_heading level1 row6\" >10</th>\n",
       "      <td id=\"T_90f43_row6_col0\" class=\"data row6 col0\" >7.4</td>\n",
       "      <td id=\"T_90f43_row6_col1\" class=\"data row6 col1\" >10.6</td>\n",
       "      <td id=\"T_90f43_row6_col2\" class=\"data row6 col2\" >38.4</td>\n",
       "      <td id=\"T_90f43_row6_col3\" class=\"data row6 col3\" >18.8</td>\n",
       "      <td id=\"T_90f43_row6_col4\" class=\"data row6 col4\" >6.0</td>\n",
       "      <td id=\"T_90f43_row6_col5\" class=\"data row6 col5\" >9.0</td>\n",
       "      <td id=\"T_90f43_row6_col6\" class=\"data row6 col6\" >17.0</td>\n",
       "      <td id=\"T_90f43_row6_col7\" class=\"data row6 col7\" >10.6</td>\n",
       "      <td id=\"T_90f43_row6_col8\" class=\"data row6 col8\" >11.2</td>\n",
       "      <td id=\"T_90f43_row6_col9\" class=\"data row6 col9\" >41.8</td>\n",
       "      <td id=\"T_90f43_row6_col10\" class=\"data row6 col10\" >21.3</td>\n",
       "      <td id=\"T_90f43_row6_col11\" class=\"data row6 col11\" >16.6</td>\n",
       "    </tr>\n",
       "    <tr>\n",
       "      <th id=\"T_90f43_level1_row7\" class=\"row_heading level1 row7\" >20</th>\n",
       "      <td id=\"T_90f43_row7_col0\" class=\"data row7 col0\" >7.2</td>\n",
       "      <td id=\"T_90f43_row7_col1\" class=\"data row7 col1\" >10.0</td>\n",
       "      <td id=\"T_90f43_row7_col2\" class=\"data row7 col2\" >36.0</td>\n",
       "      <td id=\"T_90f43_row7_col3\" class=\"data row7 col3\" >19.0</td>\n",
       "      <td id=\"T_90f43_row7_col4\" class=\"data row7 col4\" >5.0</td>\n",
       "      <td id=\"T_90f43_row7_col5\" class=\"data row7 col5\" >9.4</td>\n",
       "      <td id=\"T_90f43_row7_col6\" class=\"data row7 col6\" >18.4</td>\n",
       "      <td id=\"T_90f43_row7_col7\" class=\"data row7 col7\" >10.8</td>\n",
       "      <td id=\"T_90f43_row7_col8\" class=\"data row7 col8\" >10.0</td>\n",
       "      <td id=\"T_90f43_row7_col9\" class=\"data row7 col9\" >39.3</td>\n",
       "      <td id=\"T_90f43_row7_col10\" class=\"data row7 col10\" >22.1</td>\n",
       "      <td id=\"T_90f43_row7_col11\" class=\"data row7 col11\" >14.8</td>\n",
       "    </tr>\n",
       "    <tr>\n",
       "      <th id=\"T_90f43_level0_row8\" class=\"row_heading level0 row8\" rowspan=\"4\">10</th>\n",
       "      <th id=\"T_90f43_level1_row8\" class=\"row_heading level1 row8\" >3</th>\n",
       "      <td id=\"T_90f43_row8_col0\" class=\"data row8 col0\" >8.6</td>\n",
       "      <td id=\"T_90f43_row8_col1\" class=\"data row8 col1\" >13.6</td>\n",
       "      <td id=\"T_90f43_row8_col2\" class=\"data row8 col2\" >26.4</td>\n",
       "      <td id=\"T_90f43_row8_col3\" class=\"data row8 col3\" >19.2</td>\n",
       "      <td id=\"T_90f43_row8_col4\" class=\"data row8 col4\" >7.0</td>\n",
       "      <td id=\"T_90f43_row8_col5\" class=\"data row8 col5\" >14.2</td>\n",
       "      <td id=\"T_90f43_row8_col6\" class=\"data row8 col6\" >9.0</td>\n",
       "      <td id=\"T_90f43_row8_col7\" class=\"data row8 col7\" >8.6</td>\n",
       "      <td id=\"T_90f43_row8_col8\" class=\"data row8 col8\" >11.9</td>\n",
       "      <td id=\"T_90f43_row8_col9\" class=\"data row8 col9\" >120.9</td>\n",
       "      <td id=\"T_90f43_row8_col10\" class=\"data row8 col10\" >30.8</td>\n",
       "      <td id=\"T_90f43_row8_col11\" class=\"data row8 col11\" >25.2</td>\n",
       "    </tr>\n",
       "    <tr>\n",
       "      <th id=\"T_90f43_level1_row9\" class=\"row_heading level1 row9\" >5</th>\n",
       "      <td id=\"T_90f43_row9_col0\" class=\"data row9 col0\" >9.0</td>\n",
       "      <td id=\"T_90f43_row9_col1\" class=\"data row9 col1\" >13.8</td>\n",
       "      <td id=\"T_90f43_row9_col2\" class=\"data row9 col2\" >33.4</td>\n",
       "      <td id=\"T_90f43_row9_col3\" class=\"data row9 col3\" >20.4</td>\n",
       "      <td id=\"T_90f43_row9_col4\" class=\"data row9 col4\" >6.2</td>\n",
       "      <td id=\"T_90f43_row9_col5\" class=\"data row9 col5\" >13.2</td>\n",
       "      <td id=\"T_90f43_row9_col6\" class=\"data row9 col6\" >14.0</td>\n",
       "      <td id=\"T_90f43_row9_col7\" class=\"data row9 col7\" >11.2</td>\n",
       "      <td id=\"T_90f43_row9_col8\" class=\"data row9 col8\" >10.3</td>\n",
       "      <td id=\"T_90f43_row9_col9\" class=\"data row9 col9\" >94.1</td>\n",
       "      <td id=\"T_90f43_row9_col10\" class=\"data row9 col10\" >26.7</td>\n",
       "      <td id=\"T_90f43_row9_col11\" class=\"data row9 col11\" >18.7</td>\n",
       "    </tr>\n",
       "    <tr>\n",
       "      <th id=\"T_90f43_level1_row10\" class=\"row_heading level1 row10\" >10</th>\n",
       "      <td id=\"T_90f43_row10_col0\" class=\"data row10 col0\" >8.8</td>\n",
       "      <td id=\"T_90f43_row10_col1\" class=\"data row10 col1\" >13.8</td>\n",
       "      <td id=\"T_90f43_row10_col2\" class=\"data row10 col2\" >40.6</td>\n",
       "      <td id=\"T_90f43_row10_col3\" class=\"data row10 col3\" >22.6</td>\n",
       "      <td id=\"T_90f43_row10_col4\" class=\"data row10 col4\" >6.6</td>\n",
       "      <td id=\"T_90f43_row10_col5\" class=\"data row10 col5\" >11.0</td>\n",
       "      <td id=\"T_90f43_row10_col6\" class=\"data row10 col6\" >15.6</td>\n",
       "      <td id=\"T_90f43_row10_col7\" class=\"data row10 col7\" >12.6</td>\n",
       "      <td id=\"T_90f43_row10_col8\" class=\"data row10 col8\" >10.4</td>\n",
       "      <td id=\"T_90f43_row10_col9\" class=\"data row10 col9\" >89.7</td>\n",
       "      <td id=\"T_90f43_row10_col10\" class=\"data row10 col10\" >22.7</td>\n",
       "      <td id=\"T_90f43_row10_col11\" class=\"data row10 col11\" >15.6</td>\n",
       "    </tr>\n",
       "    <tr>\n",
       "      <th id=\"T_90f43_level1_row11\" class=\"row_heading level1 row11\" >20</th>\n",
       "      <td id=\"T_90f43_row11_col0\" class=\"data row11 col0\" >8.0</td>\n",
       "      <td id=\"T_90f43_row11_col1\" class=\"data row11 col1\" >11.2</td>\n",
       "      <td id=\"T_90f43_row11_col2\" class=\"data row11 col2\" >39.4</td>\n",
       "      <td id=\"T_90f43_row11_col3\" class=\"data row11 col3\" >22.0</td>\n",
       "      <td id=\"T_90f43_row11_col4\" class=\"data row11 col4\" >5.4</td>\n",
       "      <td id=\"T_90f43_row11_col5\" class=\"data row11 col5\" >11.4</td>\n",
       "      <td id=\"T_90f43_row11_col6\" class=\"data row11 col6\" >16.2</td>\n",
       "      <td id=\"T_90f43_row11_col7\" class=\"data row11 col7\" >11.0</td>\n",
       "      <td id=\"T_90f43_row11_col8\" class=\"data row11 col8\" >9.8</td>\n",
       "      <td id=\"T_90f43_row11_col9\" class=\"data row11 col9\" >82.8</td>\n",
       "      <td id=\"T_90f43_row11_col10\" class=\"data row11 col10\" >16.5</td>\n",
       "      <td id=\"T_90f43_row11_col11\" class=\"data row11 col11\" >13.5</td>\n",
       "    </tr>\n",
       "    <tr>\n",
       "      <th id=\"T_90f43_level0_row12\" class=\"row_heading level0 row12\" rowspan=\"4\">20</th>\n",
       "      <th id=\"T_90f43_level1_row12\" class=\"row_heading level1 row12\" >3</th>\n",
       "      <td id=\"T_90f43_row12_col0\" class=\"data row12 col0\" >10.6</td>\n",
       "      <td id=\"T_90f43_row12_col1\" class=\"data row12 col1\" >20.6</td>\n",
       "      <td id=\"T_90f43_row12_col2\" class=\"data row12 col2\" >34.6</td>\n",
       "      <td id=\"T_90f43_row12_col3\" class=\"data row12 col3\" >23.8</td>\n",
       "      <td id=\"T_90f43_row12_col4\" class=\"data row12 col4\" >7.8</td>\n",
       "      <td id=\"T_90f43_row12_col5\" class=\"data row12 col5\" >23.2</td>\n",
       "      <td id=\"T_90f43_row12_col6\" class=\"data row12 col6\" >11.2</td>\n",
       "      <td id=\"T_90f43_row12_col7\" class=\"data row12 col7\" >11.4</td>\n",
       "      <td id=\"T_90f43_row12_col8\" class=\"data row12 col8\" >11.8</td>\n",
       "      <td id=\"T_90f43_row12_col9\" class=\"data row12 col9\" >245.7</td>\n",
       "      <td id=\"T_90f43_row12_col10\" class=\"data row12 col10\" >28.5</td>\n",
       "      <td id=\"T_90f43_row12_col11\" class=\"data row12 col11\" >23.9</td>\n",
       "    </tr>\n",
       "    <tr>\n",
       "      <th id=\"T_90f43_level1_row13\" class=\"row_heading level1 row13\" >5</th>\n",
       "      <td id=\"T_90f43_row13_col0\" class=\"data row13 col0\" >11.2</td>\n",
       "      <td id=\"T_90f43_row13_col1\" class=\"data row13 col1\" >19.0</td>\n",
       "      <td id=\"T_90f43_row13_col2\" class=\"data row13 col2\" >36.6</td>\n",
       "      <td id=\"T_90f43_row13_col3\" class=\"data row13 col3\" >21.6</td>\n",
       "      <td id=\"T_90f43_row13_col4\" class=\"data row13 col4\" >7.0</td>\n",
       "      <td id=\"T_90f43_row13_col5\" class=\"data row13 col5\" >23.8</td>\n",
       "      <td id=\"T_90f43_row13_col6\" class=\"data row13 col6\" >12.2</td>\n",
       "      <td id=\"T_90f43_row13_col7\" class=\"data row13 col7\" >11.0</td>\n",
       "      <td id=\"T_90f43_row13_col8\" class=\"data row13 col8\" >11.3</td>\n",
       "      <td id=\"T_90f43_row13_col9\" class=\"data row13 col9\" >206.0</td>\n",
       "      <td id=\"T_90f43_row13_col10\" class=\"data row13 col10\" >30.5</td>\n",
       "      <td id=\"T_90f43_row13_col11\" class=\"data row13 col11\" >19.7</td>\n",
       "    </tr>\n",
       "    <tr>\n",
       "      <th id=\"T_90f43_level1_row14\" class=\"row_heading level1 row14\" >10</th>\n",
       "      <td id=\"T_90f43_row14_col0\" class=\"data row14 col0\" >10.0</td>\n",
       "      <td id=\"T_90f43_row14_col1\" class=\"data row14 col1\" >17.0</td>\n",
       "      <td id=\"T_90f43_row14_col2\" class=\"data row14 col2\" >44.6</td>\n",
       "      <td id=\"T_90f43_row14_col3\" class=\"data row14 col3\" >22.8</td>\n",
       "      <td id=\"T_90f43_row14_col4\" class=\"data row14 col4\" >7.0</td>\n",
       "      <td id=\"T_90f43_row14_col5\" class=\"data row14 col5\" >19.4</td>\n",
       "      <td id=\"T_90f43_row14_col6\" class=\"data row14 col6\" >15.2</td>\n",
       "      <td id=\"T_90f43_row14_col7\" class=\"data row14 col7\" >12.2</td>\n",
       "      <td id=\"T_90f43_row14_col8\" class=\"data row14 col8\" >10.8</td>\n",
       "      <td id=\"T_90f43_row14_col9\" class=\"data row14 col9\" >192.8</td>\n",
       "      <td id=\"T_90f43_row14_col10\" class=\"data row14 col10\" >27.5</td>\n",
       "      <td id=\"T_90f43_row14_col11\" class=\"data row14 col11\" >18.5</td>\n",
       "    </tr>\n",
       "    <tr>\n",
       "      <th id=\"T_90f43_level1_row15\" class=\"row_heading level1 row15\" >20</th>\n",
       "      <td id=\"T_90f43_row15_col0\" class=\"data row15 col0\" >8.8</td>\n",
       "      <td id=\"T_90f43_row15_col1\" class=\"data row15 col1\" >13.4</td>\n",
       "      <td id=\"T_90f43_row15_col2\" class=\"data row15 col2\" >44.8</td>\n",
       "      <td id=\"T_90f43_row15_col3\" class=\"data row15 col3\" >21.8</td>\n",
       "      <td id=\"T_90f43_row15_col4\" class=\"data row15 col4\" >6.8</td>\n",
       "      <td id=\"T_90f43_row15_col5\" class=\"data row15 col5\" >15.8</td>\n",
       "      <td id=\"T_90f43_row15_col6\" class=\"data row15 col6\" >18.0</td>\n",
       "      <td id=\"T_90f43_row15_col7\" class=\"data row15 col7\" >12.4</td>\n",
       "      <td id=\"T_90f43_row15_col8\" class=\"data row15 col8\" >10.6</td>\n",
       "      <td id=\"T_90f43_row15_col9\" class=\"data row15 col9\" >177.5</td>\n",
       "      <td id=\"T_90f43_row15_col10\" class=\"data row15 col10\" >14.8</td>\n",
       "      <td id=\"T_90f43_row15_col11\" class=\"data row15 col11\" >14.5</td>\n",
       "    </tr>\n",
       "    <tr>\n",
       "      <th id=\"T_90f43_level0_row16\" class=\"row_heading level0 row16\" rowspan=\"4\">50</th>\n",
       "      <th id=\"T_90f43_level1_row16\" class=\"row_heading level1 row16\" >3</th>\n",
       "      <td id=\"T_90f43_row16_col0\" class=\"data row16 col0\" >13.4</td>\n",
       "      <td id=\"T_90f43_row16_col1\" class=\"data row16 col1\" >26.4</td>\n",
       "      <td id=\"T_90f43_row16_col2\" class=\"data row16 col2\" >37.2</td>\n",
       "      <td id=\"T_90f43_row16_col3\" class=\"data row16 col3\" >30.8</td>\n",
       "      <td id=\"T_90f43_row16_col4\" class=\"data row16 col4\" >8.6</td>\n",
       "      <td id=\"T_90f43_row16_col5\" class=\"data row16 col5\" >23.4</td>\n",
       "      <td id=\"T_90f43_row16_col6\" class=\"data row16 col6\" >16.0</td>\n",
       "      <td id=\"T_90f43_row16_col7\" class=\"data row16 col7\" >14.0</td>\n",
       "      <td id=\"T_90f43_row16_col8\" class=\"data row16 col8\" >28.4</td>\n",
       "      <td id=\"T_90f43_row16_col9\" class=\"data row16 col9\" >707.5</td>\n",
       "      <td id=\"T_90f43_row16_col10\" class=\"data row16 col10\" >32.2</td>\n",
       "      <td id=\"T_90f43_row16_col11\" class=\"data row16 col11\" >28.0</td>\n",
       "    </tr>\n",
       "    <tr>\n",
       "      <th id=\"T_90f43_level1_row17\" class=\"row_heading level1 row17\" >5</th>\n",
       "      <td id=\"T_90f43_row17_col0\" class=\"data row17 col0\" >12.8</td>\n",
       "      <td id=\"T_90f43_row17_col1\" class=\"data row17 col1\" >23.8</td>\n",
       "      <td id=\"T_90f43_row17_col2\" class=\"data row17 col2\" >50.2</td>\n",
       "      <td id=\"T_90f43_row17_col3\" class=\"data row17 col3\" >29.2</td>\n",
       "      <td id=\"T_90f43_row17_col4\" class=\"data row17 col4\" >8.6</td>\n",
       "      <td id=\"T_90f43_row17_col5\" class=\"data row17 col5\" >28.8</td>\n",
       "      <td id=\"T_90f43_row17_col6\" class=\"data row17 col6\" >21.8</td>\n",
       "      <td id=\"T_90f43_row17_col7\" class=\"data row17 col7\" >14.6</td>\n",
       "      <td id=\"T_90f43_row17_col8\" class=\"data row17 col8\" >26.5</td>\n",
       "      <td id=\"T_90f43_row17_col9\" class=\"data row17 col9\" >601.3</td>\n",
       "      <td id=\"T_90f43_row17_col10\" class=\"data row17 col10\" >35.1</td>\n",
       "      <td id=\"T_90f43_row17_col11\" class=\"data row17 col11\" >22.8</td>\n",
       "    </tr>\n",
       "    <tr>\n",
       "      <th id=\"T_90f43_level1_row18\" class=\"row_heading level1 row18\" >10</th>\n",
       "      <td id=\"T_90f43_row18_col0\" class=\"data row18 col0\" >11.2</td>\n",
       "      <td id=\"T_90f43_row18_col1\" class=\"data row18 col1\" >18.6</td>\n",
       "      <td id=\"T_90f43_row18_col2\" class=\"data row18 col2\" >44.4</td>\n",
       "      <td id=\"T_90f43_row18_col3\" class=\"data row18 col3\" >27.4</td>\n",
       "      <td id=\"T_90f43_row18_col4\" class=\"data row18 col4\" >7.0</td>\n",
       "      <td id=\"T_90f43_row18_col5\" class=\"data row18 col5\" >22.4</td>\n",
       "      <td id=\"T_90f43_row18_col6\" class=\"data row18 col6\" >21.0</td>\n",
       "      <td id=\"T_90f43_row18_col7\" class=\"data row18 col7\" >14.4</td>\n",
       "      <td id=\"T_90f43_row18_col8\" class=\"data row18 col8\" >25.5</td>\n",
       "      <td id=\"T_90f43_row18_col9\" class=\"data row18 col9\" >506.9</td>\n",
       "      <td id=\"T_90f43_row18_col10\" class=\"data row18 col10\" >44.3</td>\n",
       "      <td id=\"T_90f43_row18_col11\" class=\"data row18 col11\" >25.8</td>\n",
       "    </tr>\n",
       "    <tr>\n",
       "      <th id=\"T_90f43_level1_row19\" class=\"row_heading level1 row19\" >20</th>\n",
       "      <td id=\"T_90f43_row19_col0\" class=\"data row19 col0\" >9.2</td>\n",
       "      <td id=\"T_90f43_row19_col1\" class=\"data row19 col1\" >14.2</td>\n",
       "      <td id=\"T_90f43_row19_col2\" class=\"data row19 col2\" >44.0</td>\n",
       "      <td id=\"T_90f43_row19_col3\" class=\"data row19 col3\" >26.4</td>\n",
       "      <td id=\"T_90f43_row19_col4\" class=\"data row19 col4\" >6.4</td>\n",
       "      <td id=\"T_90f43_row19_col5\" class=\"data row19 col5\" >15.8</td>\n",
       "      <td id=\"T_90f43_row19_col6\" class=\"data row19 col6\" >19.8</td>\n",
       "      <td id=\"T_90f43_row19_col7\" class=\"data row19 col7\" >13.8</td>\n",
       "      <td id=\"T_90f43_row19_col8\" class=\"data row19 col8\" >20.5</td>\n",
       "      <td id=\"T_90f43_row19_col9\" class=\"data row19 col9\" >461.2</td>\n",
       "      <td id=\"T_90f43_row19_col10\" class=\"data row19 col10\" >40.5</td>\n",
       "      <td id=\"T_90f43_row19_col11\" class=\"data row19 col11\" >23.5</td>\n",
       "    </tr>\n",
       "  </tbody>\n",
       "</table>\n"
      ],
      "text/plain": [
       "<pandas.io.formats.style.Styler at 0x7adfdf3b60c0>"
      ]
     },
     "execution_count": 307,
     "metadata": {},
     "output_type": "execute_result"
    }
   ],
   "source": [
    "def highlight_min(s):\n",
    "    is_min = s == s.min()\n",
    "    return ['font-weight:bold' if v else '' for v in is_min]\n",
    "\n",
    "styled_df = tab_n_steps.rename_axis(index=[latexify_label(l_) for l_ in tab_n_steps.index.names], \n",
    "                columns=[latexify_label(l_) for l_ in tab_n_steps.columns.names]).style\n",
    "for group in tab_n_steps.columns.get_level_values(0).unique():\n",
    "    group_cols = tab_n_steps.columns[tab_n_steps.columns.get_level_values(0) == group]\n",
    "    styled_df = styled_df.apply(highlight_min, subset=group_cols, axis=1, )\n",
    "    \n",
    "ts = styled_df.format('{:.1f}' , escape='latex')\n",
    "        \n",
    "    # .highlight_min(axis=1, props='font-weight:bold')\n",
    "\n",
    "\n",
    "\n",
    "ts.to_latex(os.path.join('./', 'Averaging_n_steps_by_method.tex'),\n",
    "            convert_css=True, hrules=True, clines=\"skip-last;data\")\n",
    "ts"
   ]
  },
  {
   "cell_type": "code",
   "execution_count": null,
   "id": "425adb82-9884-4bc5-9df6-babb6301cd4a",
   "metadata": {},
   "outputs": [],
   "source": []
  },
  {
   "cell_type": "code",
   "execution_count": null,
   "id": "546baf6c-8ef8-4fb6-a70c-442a7e940eb0",
   "metadata": {},
   "outputs": [],
   "source": []
  }
 ],
 "metadata": {
  "kernelspec": {
   "display_name": "Python 3 (ipykernel)",
   "language": "python",
   "name": "python3"
  },
  "language_info": {
   "codemirror_mode": {
    "name": "ipython",
    "version": 3
   },
   "file_extension": ".py",
   "mimetype": "text/x-python",
   "name": "python",
   "nbconvert_exporter": "python",
   "pygments_lexer": "ipython3",
   "version": "3.12.9"
  }
 },
 "nbformat": 4,
 "nbformat_minor": 5
}
